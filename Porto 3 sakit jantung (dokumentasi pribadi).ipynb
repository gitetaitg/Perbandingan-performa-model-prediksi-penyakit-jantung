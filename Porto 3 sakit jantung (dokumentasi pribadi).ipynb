{
 "cells": [
  {
   "cell_type": "markdown",
   "id": "437f08e5",
   "metadata": {},
   "source": [
    "## Latar Belakang\n",
    "\n",
    "Dalam penanganan penyakit jantung, ketersediaan data kesehatan pasien yang lengkap sangat berperan penting dalam proses diagnosis dan pemodelan risiko penyakit. Rumah sakit dengan fasilitas lengkap umumnya memiliki akses ke data kesehatan yang komprehensif, mulai dari hasil laboratorium, rekam medis elektronik, pemeriksaan penunjang, hingga catatan riwayat kesehatan yang detail. Data lengkap ini memungkinkan pemodelan risiko penyakit jantung yang lebih akurat dan mendalam.\n",
    "\n",
    "Sebaliknya, di klinik-klinik dengan fasilitas terbatas, data kesehatan yang tersedia seringkali kurang lengkap atau hanya mencakup informasi dasar, seperti tekanan darah, berat badan, dan keluhan pasien. Keterbatasan data ini menjadi tantangan tersendiri dalam mengembangkan model prediksi risiko penyakit jantung yang efektif, karena model harus mampu bekerja dengan informasi yang lebih terbatas namun tetap memberikan hasil yang dapat diandalkan.\n",
    "\n",
    "Perbedaan kualitas dan kelengkapan data antara rumah sakit dan klinik ini menimbulkan kebutuhan untuk menguji dan membandingkan pendekatan pemodelan risiko yang dapat diimplementasikan pada kedua kondisi tersebut. Dengan demikian, petugas kesehatan di berbagai fasilitas, baik yang memiliki data lengkap maupun yang terbatas, dapat memperoleh alat bantu prediksi yang sesuai dan mendukung pengambilan keputusan klinis secara optimal."
   ]
  },
  {
   "cell_type": "markdown",
   "id": "aca283ae",
   "metadata": {},
   "source": [
    "## Rumusan Masalah\n",
    "\n",
    "\n",
    "* Sejauh mana fasilitas sederhana (dengan fitur terbatas yang mudah diperoleh di lapangan) mampu mendeteksi potensi penyakit jantung secara akurat?.  \n",
    "  Dalam hal ini sebuah desa terpencil hanya memiliki tensimeter dan glukometer.\n",
    "\n",
    "* Seberapa besar peningkatan performa yang diperoleh jika digunakan fitur-fitur dari fasilitas canggih (seperti alat EKG atau tes laboratorium)?\n",
    "\n",
    "* Apakah model machine learning berbasis data sederhana dapat diandalkan sebagai alat bantu skrining awal, terutama di daerah terpencil yang minim tenaga spesialis dan peralatan?"
   ]
  },
  {
   "cell_type": "markdown",
   "id": "53bf1041",
   "metadata": {},
   "source": [
    "| Nama Kolom         | Penjelasan Medis & Cara Didapatkan                                                                                                                                                  |\n",
    "| ------------------ | ----------------------------------------------------------------------------------------------------------------------------------------------------------------------------------- |\n",
    "| **Age**            | Usia pasien (dalam tahun). Faktor risiko utama, makin tua, makin tinggi risiko. Didapat dari data identitas.                                                                        |\n",
    "| **Sex**            | Jenis kelamin (0 = wanita, 1 = pria). Pria cenderung lebih berisiko. Data administratif.                                                                                            |\n",
    "| **ChestPainType**  | Tipe nyeri dada: angina tipikal, atipikal, non-anginal, atau tidak ada nyeri. Informasi ini didapat dari wawancara klinis.                                                          |\n",
    "| **RestingBP**      | Tekanan darah saat istirahat (mmHg). Pengukuran langsung menggunakan tensimeter.                                                                                                    |\n",
    "| **Cholesterol**    | Kadar kolesterol total dalam darah (mg/dL). Harus diuji di laboratorium.                                                                                                            |\n",
    "| **FastingBS**      | Gula darah puasa (> 120 mg/dL = 1, lainnya = 0). Diuji dengan alat glukometer atau lab.                                                                                             |\n",
    "| **RestingECG**     | Hasil elektrokardiogram saat istirahat: normal, kelainan ringan, atau kelainan parah. Butuh alat EKG.                                                                               |\n",
    "| **MaxHR**          | Detak jantung maksimal saat olahraga. Biasanya diperoleh dari tes treadmill atau stress test.                                                                                       |\n",
    "| **ExerciseAngina** | Apakah pasien mengalami angina (nyeri dada) saat berolahraga (1 = ya, 0 = tidak). Ditentukan lewat wawancara dan/atau uji latihan.                                                  |\n",
    "| **Oldpeak**        | Depresi segmen ST dari EKG setelah latihan, mengindikasikan iskemia (penurunan aliran darah). Diperoleh dari tes EKG setelah stres.                                                 |\n",
    "| **ST\\_Slope**      | Bentuk kemiringan segmen ST dari EKG saat stres: naik, datar, atau turun. Perlu alat EKG.                                                                                           |\n",
    "| **HeartDisease**   | Label target: apakah pasien mengidap penyakit jantung (1 = ya, 0 = tidak). Ditetapkan oleh dokter dari diagnosis menyeluruh (bisa berdasarkan tes lab, EKG, observasi klinis, dll). |\n"
   ]
  },
  {
   "cell_type": "markdown",
   "id": "4dced8b8",
   "metadata": {},
   "source": [
    "| Kolom              | Deskripsi                                                                                                                                                                           |\n",
    "| ------------------ | ----------------------------------------------------------------------------------------------------------------------------------------------------------------------------------- |\n",
    "| **Age**            | Usia pasien (dalam tahun).                                                                       |\n",
    "| **Sex**            | Jenis kelamin (0 = wanita, 1 = pria).                                                                                          |\n",
    "| **ChestPainType**  | Tipe nyeri dada: angina tipikal, atipikal, non-anginal, atau tidak ada nyeri.                                                         |\n",
    "| **RestingBP**      | Tekanan darah saat istirahat (mmHg).                                                                                                    |\n",
    "| **Cholesterol**    | Kadar kolesterol total dalam darah (mg/dL).                                                                                                           |\n",
    "| **FastingBS**      | Kadar gula darah (> 120 mg/dL = 1, lainnya = 0).                                                                                             |\n",
    "| **RestingECG**     | Hasil elektrokardiogram saat istirahat: normal, ST(Potensi iskelemia, infark miokard), LVH(Pembesaran bilik kiri).                                                                               |\n",
    "| **MaxHR**          | Detak jantung maksimal saat olahraga (bpm).                                                                                       |\n",
    "| **ExerciseAngina** | Nyeri dada saat berolahraga (1 = ya, 0 = tidak).                                                  |\n",
    "| **Oldpeak**        | Penurunan segmen ST dari hasil EKG setelah aktivitas fisik.                                                 |\n",
    "| **ST\\_Slope**      | Bentuk kemiringan segmen ST dari EKG saat aktivitas fisik.                                                                                           |\n",
    "| **HeartDisease**   | Label target: apakah pasien mengidap penyakit jantung (1 = ya, 0 = tidak).|\n"
   ]
  },
  {
   "cell_type": "markdown",
   "id": "be8dc701",
   "metadata": {},
   "source": [
    "## Pendalaman Domain"
   ]
  },
  {
   "cell_type": "markdown",
   "id": "1a76e5cf",
   "metadata": {},
   "source": [
    "### ChestPainType\n",
    "\n",
    "| Kode / Label         | Penjelasan Klinis                                                                                                                                               |\n",
    "| -------------------- | --------------------------------------------------------------------------------------------------------------------------------------------------------------- |\n",
    "| **Typical Angina**   | Nyeri dada khas akibat kurangnya suplai darah ke jantung (iskemia). Muncul saat aktivitas fisik atau stres dan mereda saat istirahat atau dengan nitrogliserin. |\n",
    "| **Atypical Angina**  | Gejala nyeri dada yang mirip angina tapi tidak memenuhi semua kriteria khas. Bisa jadi berasal dari jantung atau organ lain.                                    |\n",
    "| **Non-anginal Pain** | Nyeri dada yang tidak terkait dengan iskemia jantung. Bisa berasal dari otot, paru-paru, pencernaan (seperti GERD), atau kecemasan.                             |\n",
    "| **Asymptomatic**     | Tidak ada keluhan nyeri dada. Bisa jadi pasien tidak merasakan gejala walaupun ada penyakit jantung (\"silent ischemia\").                                        |\n"
   ]
  },
  {
   "cell_type": "markdown",
   "id": "f9e09597",
   "metadata": {},
   "source": [
    "Ciri-ciri Nyeri Dada pada Typical Angina (Angina Pektoris Klasik)\n",
    "Nyeri dada karena angina khas memiliki tiga ciri utama, menurut pedoman klinis (termasuk American College of Cardiology):\n",
    "\n",
    "1. Lokasi dan Karakter Nyeri\n",
    "Terasa di belakang tulang dada (retrosternal).\n",
    "Digambarkan sebagai rasa:\n",
    "Terhimpit (seperti ditekan benda berat),Terbakar,\n",
    "Sesak atau tercekik, Kadang menjalar ke lengan kiri, leher, rahang, atau punggung.\n",
    "\n",
    "2. Dipicu oleh Aktivitas Fisik atau Emosi\n",
    "Timbul saat:\n",
    "\n",
    "* Berjalan cepat\n",
    "* Naik tangga\n",
    "* Emosi/tekanan psikologis\n",
    "\n",
    "    Karena jantung butuh lebih banyak oksigen saat aktivitas → pembuluh darah menyempit → nyeri.\n",
    "\n",
    "3. Reda dengan Istirahat atau Nitrogliserin\n",
    "Biasanya membaik dalam 5–10 menit setelah berhenti beraktivitas atau konsumsi obat vasodilator (misalnya nitrogliserin)."
   ]
  },
  {
   "cell_type": "markdown",
   "id": "333b5305",
   "metadata": {},
   "source": [
    "| Nilai (String) | Penjelasan Klinis Singkat                                                                      |\n",
    "| -------------- | ---------------------------------------------------------------------------------------------- |\n",
    "| **Normal**     | Pola EKG tidak menunjukkan abnormalitas.                                                       |\n",
    "| **ST**         | Terjadi kelainan pada **segmen ST** → bisa berarti **iskemia** atau **infark miokard**.        |\n",
    "| **LVH**        | **Left Ventricular Hypertrophy** → pembesaran otot bilik kiri jantung, bisa karena hipertensi. |\n"
   ]
  },
  {
   "cell_type": "markdown",
   "id": "74ca2ddf",
   "metadata": {},
   "source": [
    "### ST_Slope"
   ]
  },
  {
   "cell_type": "markdown",
   "id": "8509cdb6",
   "metadata": {},
   "source": [
    "| Nilai (kode) | Deskripsi                  | Makna Klinis Singkat                                |\n",
    "| ------------ | -------------------------- | --------------------------------------------------- |\n",
    "| 1            | **Upward slope** (naik)    | Segmen ST naik, ini biasanya normal atau lebih baik |\n",
    "| 2            | **Flat slope** (datar)     | Segmen ST datar, bisa menandakan iskemia ringan     |\n",
    "| 3            | **Downward slope** (turun) | Segmen ST turun, indikasi iskemia serius            |\n"
   ]
  },
  {
   "attachments": {
    "PQRST ECG Heart.png": {
     "image/png": "[encoded data removed]"
    }
   },
   "cell_type": "markdown",
   "id": "e573b617",
   "metadata": {},
   "source": [
    "Gambaran ECG\n",
    "\n",
    "![PQRST ECG Heart.png](<attachment:PQRST ECG Heart.png>)"
   ]
  },
  {
   "cell_type": "code",
   "execution_count": 1,
   "id": "d935d984",
   "metadata": {},
   "outputs": [],
   "source": [
    "\n",
    "# Basic\n",
    "import numpy as np\n",
    "import pandas as pd\n",
    "import seaborn as sns\n",
    "\n",
    "# Viz\n",
    "import matplotlib.pyplot as plt\n",
    "\n",
    "# Preprocessing\n",
    "from sklearn.model_selection import train_test_split\n",
    "from sklearn.preprocessing import StandardScaler, RobustScaler\n",
    "from sklearn.preprocessing import OneHotEncoder, OrdinalEncoder\n",
    "from sklearn.preprocessing import FunctionTransformer\n",
    "from sklearn.compose import ColumnTransformer\n",
    "from sklearn.pipeline import Pipeline\n",
    "import category_encoders as ce\n",
    "\n",
    "\n",
    "# Modeling\n",
    "from sklearn.linear_model import LogisticRegression\n",
    "from sklearn.tree import DecisionTreeClassifier\n",
    "from sklearn.ensemble import RandomForestClassifier\n",
    "from sklearn.neighbors import KNeighborsClassifier\n",
    "from xgboost import XGBClassifier\n",
    "import xgboost as xgb\n",
    "from lightgbm import LGBMClassifier\n",
    "import lightgbm as lgb\n",
    "from scipy.stats import uniform, randint\n",
    "from sklearn.model_selection import StratifiedKFold\n",
    "\n",
    "# Metrics (Evaluasi Model)\n",
    "from sklearn.metrics import (\n",
    "    accuracy_score, precision_score, recall_score, f1_score, roc_auc_score,\n",
    "    confusion_matrix, classification_report, mean_squared_error, r2_score\n",
    ")\n",
    "\n",
    "# Model selection\n",
    "from sklearn.model_selection import cross_val_score, RandomizedSearchCV\n",
    "\n",
    "# Warning\n",
    "import warnings\n",
    "warnings.filterwarnings('ignore')\n",
    "\n",
    "\n"
   ]
  },
  {
   "cell_type": "code",
   "execution_count": 2,
   "id": "892545ab",
   "metadata": {},
   "outputs": [
    {
     "data": {
      "text/html": [
       "<div>\n",
       "<style scoped>\n",
       "    .dataframe tbody tr th:only-of-type {\n",
       "        vertical-align: middle;\n",
       "    }\n",
       "\n",
       "    .dataframe tbody tr th {\n",
       "        vertical-align: top;\n",
       "    }\n",
       "\n",
       "    .dataframe thead th {\n",
       "        text-align: right;\n",
       "    }\n",
       "</style>\n",
       "<table border=\"1\" class=\"dataframe\">\n",
       "  <thead>\n",
       "    <tr style=\"text-align: right;\">\n",
       "      <th></th>\n",
       "      <th>Age</th>\n",
       "      <th>Sex</th>\n",
       "      <th>ChestPainType</th>\n",
       "      <th>RestingBP</th>\n",
       "      <th>Cholesterol</th>\n",
       "      <th>FastingBS</th>\n",
       "      <th>RestingECG</th>\n",
       "      <th>MaxHR</th>\n",
       "      <th>ExerciseAngina</th>\n",
       "      <th>Oldpeak</th>\n",
       "      <th>ST_Slope</th>\n",
       "      <th>HeartDisease</th>\n",
       "    </tr>\n",
       "  </thead>\n",
       "  <tbody>\n",
       "    <tr>\n",
       "      <th>0</th>\n",
       "      <td>40</td>\n",
       "      <td>M</td>\n",
       "      <td>ATA</td>\n",
       "      <td>140</td>\n",
       "      <td>289</td>\n",
       "      <td>0</td>\n",
       "      <td>Normal</td>\n",
       "      <td>172</td>\n",
       "      <td>N</td>\n",
       "      <td>0.0</td>\n",
       "      <td>Up</td>\n",
       "      <td>0</td>\n",
       "    </tr>\n",
       "    <tr>\n",
       "      <th>1</th>\n",
       "      <td>49</td>\n",
       "      <td>F</td>\n",
       "      <td>NAP</td>\n",
       "      <td>160</td>\n",
       "      <td>180</td>\n",
       "      <td>0</td>\n",
       "      <td>Normal</td>\n",
       "      <td>156</td>\n",
       "      <td>N</td>\n",
       "      <td>1.0</td>\n",
       "      <td>Flat</td>\n",
       "      <td>1</td>\n",
       "    </tr>\n",
       "    <tr>\n",
       "      <th>2</th>\n",
       "      <td>37</td>\n",
       "      <td>M</td>\n",
       "      <td>ATA</td>\n",
       "      <td>130</td>\n",
       "      <td>283</td>\n",
       "      <td>0</td>\n",
       "      <td>ST</td>\n",
       "      <td>98</td>\n",
       "      <td>N</td>\n",
       "      <td>0.0</td>\n",
       "      <td>Up</td>\n",
       "      <td>0</td>\n",
       "    </tr>\n",
       "    <tr>\n",
       "      <th>3</th>\n",
       "      <td>48</td>\n",
       "      <td>F</td>\n",
       "      <td>ASY</td>\n",
       "      <td>138</td>\n",
       "      <td>214</td>\n",
       "      <td>0</td>\n",
       "      <td>Normal</td>\n",
       "      <td>108</td>\n",
       "      <td>Y</td>\n",
       "      <td>1.5</td>\n",
       "      <td>Flat</td>\n",
       "      <td>1</td>\n",
       "    </tr>\n",
       "    <tr>\n",
       "      <th>4</th>\n",
       "      <td>54</td>\n",
       "      <td>M</td>\n",
       "      <td>NAP</td>\n",
       "      <td>150</td>\n",
       "      <td>195</td>\n",
       "      <td>0</td>\n",
       "      <td>Normal</td>\n",
       "      <td>122</td>\n",
       "      <td>N</td>\n",
       "      <td>0.0</td>\n",
       "      <td>Up</td>\n",
       "      <td>0</td>\n",
       "    </tr>\n",
       "  </tbody>\n",
       "</table>\n",
       "</div>"
      ],
      "text/plain": [
       "   Age Sex ChestPainType  RestingBP  Cholesterol  FastingBS RestingECG  MaxHR  \\\n",
       "0   40   M           ATA        140          289          0     Normal    172   \n",
       "1   49   F           NAP        160          180          0     Normal    156   \n",
       "2   37   M           ATA        130          283          0         ST     98   \n",
       "3   48   F           ASY        138          214          0     Normal    108   \n",
       "4   54   M           NAP        150          195          0     Normal    122   \n",
       "\n",
       "  ExerciseAngina  Oldpeak ST_Slope  HeartDisease  \n",
       "0              N      0.0       Up             0  \n",
       "1              N      1.0     Flat             1  \n",
       "2              N      0.0       Up             0  \n",
       "3              Y      1.5     Flat             1  \n",
       "4              N      0.0       Up             0  "
      ]
     },
     "execution_count": 2,
     "metadata": {},
     "output_type": "execute_result"
    }
   ],
   "source": [
    "df = pd.read_csv(r\"C:\\Users\\Hewlett Packard\\Desktop\\SAYA\\Porto 3\\Heart Dieses\\archive (7)\\heart.csv\")\n",
    "df.head()"
   ]
  },
  {
   "cell_type": "code",
   "execution_count": 3,
   "id": "a17690fb",
   "metadata": {},
   "outputs": [
    {
     "name": "stdout",
     "output_type": "stream",
     "text": [
      "<class 'pandas.core.frame.DataFrame'>\n",
      "RangeIndex: 918 entries, 0 to 917\n",
      "Data columns (total 12 columns):\n",
      " #   Column          Non-Null Count  Dtype  \n",
      "---  ------          --------------  -----  \n",
      " 0   Age             918 non-null    int64  \n",
      " 1   Sex             918 non-null    object \n",
      " 2   ChestPainType   918 non-null    object \n",
      " 3   RestingBP       918 non-null    int64  \n",
      " 4   Cholesterol     918 non-null    int64  \n",
      " 5   FastingBS       918 non-null    int64  \n",
      " 6   RestingECG      918 non-null    object \n",
      " 7   MaxHR           918 non-null    int64  \n",
      " 8   ExerciseAngina  918 non-null    object \n",
      " 9   Oldpeak         918 non-null    float64\n",
      " 10  ST_Slope        918 non-null    object \n",
      " 11  HeartDisease    918 non-null    int64  \n",
      "dtypes: float64(1), int64(6), object(5)\n",
      "memory usage: 86.2+ KB\n"
     ]
    }
   ],
   "source": [
    "df.info()"
   ]
  },
  {
   "cell_type": "markdown",
   "id": "25d91cc5",
   "metadata": {},
   "source": [
    "## EDA"
   ]
  },
  {
   "cell_type": "markdown",
   "id": "9de9870b",
   "metadata": {},
   "source": [
    "Terlihat nilai 0 pada kolom `RestingBP`, seharusnya ini fenomena yang tidak mungkin terjadi, oleh karena itu nilai ini dianggap salah input maka kami akan mengisinya dengan median"
   ]
  },
  {
   "cell_type": "code",
   "execution_count": 4,
   "id": "aa8afd8e",
   "metadata": {},
   "outputs": [],
   "source": [
    "df['RestingBP'] = df['RestingBP'].replace(0, np.nan) # Replace 0 with NaN\n",
    "df[\"RestingBP\"].fillna(df[\"RestingBP\"].median(), inplace=True) # Fill NaN with median"
   ]
  },
  {
   "cell_type": "markdown",
   "id": "3b9c8a14",
   "metadata": {},
   "source": [
    "Begitu pula `Cholesterol`, terlihat nilai 0 pada kolom ini, maka nilai ini dianggap salah input dan kami akan mengisinya dengan median. Selain itu terdapat outlier ekstrim yaitu `Cholesterol` > 400, dalam hal ini kami akan melakukan binning untuk menanganinya"
   ]
  },
  {
   "cell_type": "code",
   "execution_count": 5,
   "id": "ce0501f4",
   "metadata": {},
   "outputs": [],
   "source": [
    "df[\"Cholesterol\"] =  df[\"Cholesterol\"].replace(0, np.nan) # Replace 0 with NaN\n",
    "df[\"Cholesterol\"].fillna(df[\"Cholesterol\"].median(), inplace=True) # Fill NaN dengan median agar tahan outlier"
   ]
  },
  {
   "cell_type": "code",
   "execution_count": 6,
   "id": "85ca1f84",
   "metadata": {},
   "outputs": [
    {
     "data": {
      "text/plain": [
       "count    918.000000\n",
       "mean     243.204793\n",
       "std       53.401297\n",
       "min       85.000000\n",
       "25%      214.000000\n",
       "50%      237.000000\n",
       "75%      267.000000\n",
       "max      603.000000\n",
       "Name: Cholesterol, dtype: float64"
      ]
     },
     "execution_count": 6,
     "metadata": {},
     "output_type": "execute_result"
    }
   ],
   "source": [
    "df[\"Cholesterol\"].describe()"
   ]
  },
  {
   "cell_type": "code",
   "execution_count": 7,
   "id": "91c17ee2",
   "metadata": {},
   "outputs": [
    {
     "data": {
      "text/plain": [
       "13"
      ]
     },
     "execution_count": 7,
     "metadata": {},
     "output_type": "execute_result"
    }
   ],
   "source": [
    "df[df[\"Cholesterol\"] > 400].shape[0] # 4 data outlier"
   ]
  },
  {
   "cell_type": "markdown",
   "id": "b5961d7f",
   "metadata": {},
   "source": [
    "Dalam dunia medis `Oldpeak` < 0 bisa berarti noise dan tidak valid, oleh karena itu nilai ini kami ganti dengan nilai 0"
   ]
  },
  {
   "cell_type": "code",
   "execution_count": 8,
   "id": "a29002ac",
   "metadata": {},
   "outputs": [],
   "source": [
    "df['Oldpeak'] = df['Oldpeak'].apply(lambda x: x if x >= 0 else 0)"
   ]
  },
  {
   "cell_type": "markdown",
   "id": "734493d4",
   "metadata": {},
   "source": [
    "## Preprocessing\n",
    "\n",
    "Binning:  \n",
    "Cholesterol dibinning karena ada outlier dan kita tetap ingin mempertahankan outlier ini\n",
    "\n",
    "OneHot untuk data dengan sedikit kategori dan tidak berjenjang:  \n",
    "ExerciseAngina, RestingECG, ST_Slope, ChestPainType, Sex, FastingBS, RestingECG\n",
    "\n",
    "StandardScaling untuk data terdistribusi normal:  \n",
    "MaxHR, Age, RestingBP\n",
    "\n",
    "RobustScaling agar tahan outlier:  \n",
    "Oldpeak\n",
    "\n",
    "Preprocessing dilakukan setelah splitting dengan pipeline menghindari leakage\n"
   ]
  },
  {
   "cell_type": "markdown",
   "id": "839dafc2",
   "metadata": {},
   "source": [
    "### Fitur dan Target"
   ]
  },
  {
   "cell_type": "code",
   "execution_count": 9,
   "id": "1571160f",
   "metadata": {},
   "outputs": [],
   "source": [
    "target = df['HeartDisease']\n",
    "features = df.drop(columns=['HeartDisease'])"
   ]
  },
  {
   "cell_type": "markdown",
   "id": "5bf4367a",
   "metadata": {},
   "source": [
    "### Splitting"
   ]
  },
  {
   "cell_type": "code",
   "execution_count": 10,
   "id": "b22db53d",
   "metadata": {},
   "outputs": [],
   "source": [
    "\n",
    "X = features\n",
    "y = target\n",
    "\n",
    "X_train, X_test, y_train, y_test = train_test_split(X, y, test_size=0.2, random_state=10, stratify=y)"
   ]
  },
  {
   "cell_type": "markdown",
   "id": "dab9563a",
   "metadata": {},
   "source": [
    "### Binning function for `Cholesterol`"
   ]
  },
  {
   "cell_type": "code",
   "execution_count": 11,
   "id": "c3dd1da9",
   "metadata": {},
   "outputs": [],
   "source": [
    "import numpy as np\n",
    "\n",
    "def bin_cholesterol_array(X):\n",
    "    # Ubah ke array dulu biar aman\n",
    "    X = np.array(X)\n",
    "\n",
    "    # Pastikan bentuknya 1D (kadang masuknya (n_samples, 1), kadang (n_samples,))\n",
    "    if X.ndim == 2:\n",
    "        X = X[:, 0]  # Ambil kolom pertama\n",
    "\n",
    "    # Apply binning\n",
    "    result = []\n",
    "    for chol in X:\n",
    "        if chol < 200:\n",
    "            result.append('normal')\n",
    "        elif chol < 240:\n",
    "            result.append('borderline')\n",
    "        elif chol <= 400:\n",
    "            result.append('high')\n",
    "        else:\n",
    "            result.append('extreme')\n",
    "    \n",
    "    return np.array(result).reshape(-1, 1)  # Kembalikan ke array 2D"
   ]
  },
  {
   "cell_type": "markdown",
   "id": "c4465c94",
   "metadata": {},
   "source": [
    "### Pipeline preprocessor"
   ]
  },
  {
   "cell_type": "code",
   "execution_count": 12,
   "id": "8281f2c7",
   "metadata": {},
   "outputs": [],
   "source": [
    "\n",
    "# Step 2: FunctionTransformer\n",
    "binning_transformer = Pipeline([\n",
    "    ('bin_func', FunctionTransformer(bin_cholesterol_array, validate=False)),\n",
    "    ('ordinal_enc', OrdinalEncoder(categories=[['normal', 'borderline', 'high', 'extreme']]))\n",
    "])\n",
    "\n",
    "# Fitur lainnya\n",
    "onehot_features = ['ExerciseAngina', 'RestingECG', 'ST_Slope', 'ChestPainType', 'Sex', 'FastingBS']\n",
    "standard_features = ['MaxHR', 'Age', 'RestingBP']\n",
    "robust_features = ['Oldpeak']\n",
    "cholesterol_feature = ['Cholesterol']  # ini masuk ke pipeline binning\n",
    "\n",
    "# Pipelines lainnya\n",
    "onehot_pipeline = Pipeline([\n",
    "    ('onehot', OneHotEncoder(drop=\"first\",handle_unknown='ignore'))\n",
    "])\n",
    "\n",
    "preprocessor = ColumnTransformer([\n",
    "    ('chol_bin', binning_transformer, cholesterol_feature),\n",
    "    ('onehot', onehot_pipeline, onehot_features),\n",
    "    ('standard', StandardScaler(), standard_features),\n",
    "    ('robust', RobustScaler(), robust_features)\n",
    "])\n"
   ]
  },
  {
   "cell_type": "markdown",
   "id": "240c4125",
   "metadata": {},
   "source": [
    "### Cek Multicollinearity\n",
    "Sebelum train ada baiknya kita memeriksa multikolinearitas model linear seperti logreg berpotensi mengalami masalah jika multikolinearitas diabaikan"
   ]
  },
  {
   "cell_type": "code",
   "execution_count": 13,
   "id": "d60499a6",
   "metadata": {},
   "outputs": [
    {
     "name": "stdout",
     "output_type": "stream",
     "text": [
      "           feature        VIF\n",
      "3        RestingBP  50.740813\n",
      "0              Age  32.493294\n",
      "7            MaxHR  27.465261\n",
      "4      Cholesterol  20.429096\n",
      "10        ST_Slope   9.455441\n",
      "1              Sex   4.831442\n",
      "6       RestingECG   3.463739\n",
      "9          Oldpeak   2.647559\n",
      "8   ExerciseAngina   2.530672\n",
      "2    ChestPainType   2.009370\n",
      "5        FastingBS   1.411122\n"
     ]
    }
   ],
   "source": [
    "from statsmodels.stats.outliers_influence import variance_inflation_factor\n",
    "import numpy as np\n",
    "\n",
    "# Ambil fitur numerik saja (jangan masukin target)\n",
    "features = df.drop(columns=['HeartDisease'])\n",
    "\n",
    "# Kalau ada fitur kategori, encode dulu jadi numerik\n",
    "# Contoh sederhana, encode kategori dengan label encoding:\n",
    "from sklearn.preprocessing import LabelEncoder\n",
    "features_encoded = features.copy()\n",
    "for col in features_encoded.select_dtypes(include='object').columns:\n",
    "    le = LabelEncoder()\n",
    "    features_encoded[col] = le.fit_transform(features_encoded[col].astype(str))\n",
    "\n",
    "# Hitung VIF\n",
    "vif_data = pd.DataFrame()\n",
    "vif_data['feature'] = features_encoded.columns\n",
    "vif_data['VIF'] = [variance_inflation_factor(features_encoded.values, i) for i in range(features_encoded.shape[1])]\n",
    "\n",
    "print(vif_data.sort_values(by='VIF', ascending=False))\n"
   ]
  },
  {
   "cell_type": "markdown",
   "id": "01845bb8",
   "metadata": {},
   "source": [
    "Jika kita lihat ada beberapa fitur yang nilai vifnya jauh di atas 4, sementara kita akan coba train tanpa drop fitur2 tersebut"
   ]
  },
  {
   "cell_type": "markdown",
   "id": "44a45749",
   "metadata": {},
   "source": [
    ">## Training Model"
   ]
  },
  {
   "cell_type": "markdown",
   "id": "83bc2ebb",
   "metadata": {},
   "source": [
    "## Baseline Model (LogReg, KNN, Decision Tree) Tanpa Hyperparameter Tuning\n",
    "\n",
    "Pertama - tama mari kita train model machine learning dengan baseline model (LogReg, KNN, Decision Tree) tanpa hyper parameter tuning, kita akan melihat nilai score rata2 validasi dan score prediksinya"
   ]
  },
  {
   "cell_type": "markdown",
   "id": "6abd6481",
   "metadata": {},
   "source": [
    "#### Validasi Model dengan Cross-Validation"
   ]
  },
  {
   "cell_type": "code",
   "execution_count": 14,
   "id": "870caa78",
   "metadata": {},
   "outputs": [],
   "source": [
    "logreg = LogisticRegression(random_state=10)\n",
    "knn = KNeighborsClassifier()\n",
    "tree = DecisionTreeClassifier(random_state=10)"
   ]
  },
  {
   "cell_type": "code",
   "execution_count": 15,
   "id": "1b86f3d3",
   "metadata": {},
   "outputs": [
    {
     "data": {
      "text/html": [
       "<div>\n",
       "<style scoped>\n",
       "    .dataframe tbody tr th:only-of-type {\n",
       "        vertical-align: middle;\n",
       "    }\n",
       "\n",
       "    .dataframe tbody tr th {\n",
       "        vertical-align: top;\n",
       "    }\n",
       "\n",
       "    .dataframe thead th {\n",
       "        text-align: right;\n",
       "    }\n",
       "</style>\n",
       "<table border=\"1\" class=\"dataframe\">\n",
       "  <thead>\n",
       "    <tr style=\"text-align: right;\">\n",
       "      <th></th>\n",
       "      <th>mean recall</th>\n",
       "      <th>sdev</th>\n",
       "    </tr>\n",
       "    <tr>\n",
       "      <th>model</th>\n",
       "      <th></th>\n",
       "      <th></th>\n",
       "    </tr>\n",
       "  </thead>\n",
       "  <tbody>\n",
       "    <tr>\n",
       "      <th>KNN</th>\n",
       "      <td>0.884146</td>\n",
       "      <td>0.051998</td>\n",
       "    </tr>\n",
       "    <tr>\n",
       "      <th>Logistic Regression</th>\n",
       "      <td>0.871768</td>\n",
       "      <td>0.057687</td>\n",
       "    </tr>\n",
       "    <tr>\n",
       "      <th>Decision Tree</th>\n",
       "      <td>0.788415</td>\n",
       "      <td>0.055346</td>\n",
       "    </tr>\n",
       "  </tbody>\n",
       "</table>\n",
       "</div>"
      ],
      "text/plain": [
       "                     mean recall      sdev\n",
       "model                                     \n",
       "KNN                     0.884146  0.051998\n",
       "Logistic Regression     0.871768  0.057687\n",
       "Decision Tree           0.788415  0.055346"
      ]
     },
     "execution_count": 15,
     "metadata": {},
     "output_type": "execute_result"
    }
   ],
   "source": [
    "models = [logreg,knn,tree]\n",
    "score=[]\n",
    "rata=[]\n",
    "std=[]\n",
    "\n",
    "for i in models:\n",
    "    skfold=StratifiedKFold(n_splits=10, shuffle=True, random_state=10)\n",
    "    estimator=Pipeline([\n",
    "        ('preprocess',preprocessor),\n",
    "        ('model',i)])\n",
    "    model_cv=cross_val_score(estimator,X_train,y_train,cv=skfold,scoring='recall')\n",
    "    score.append(model_cv)\n",
    "    rata.append(model_cv.mean())\n",
    "    std.append(model_cv.std())\n",
    "    \n",
    "df_baseline_model_without_hp = pd.DataFrame({'model':['Logistic Regression', 'KNN', 'Decision Tree'],'mean recall':rata,'sdev':std}).set_index('model').sort_values(by='mean recall',ascending=False)\n",
    "df_baseline_model_without_hp"
   ]
  },
  {
   "cell_type": "markdown",
   "id": "9e708fff",
   "metadata": {},
   "source": [
    "#### Prediksi dan Evaluasi pada Data Test"
   ]
  },
  {
   "cell_type": "code",
   "execution_count": 16,
   "id": "0a186c1a",
   "metadata": {},
   "outputs": [
    {
     "name": "stdout",
     "output_type": "stream",
     "text": [
      "Logistic Regression \n",
      "               precision    recall  f1-score   support\n",
      "\n",
      "           0       0.89      0.85      0.87        82\n",
      "           1       0.89      0.91      0.90       102\n",
      "\n",
      "    accuracy                           0.89       184\n",
      "   macro avg       0.89      0.88      0.88       184\n",
      "weighted avg       0.89      0.89      0.89       184\n",
      "\n",
      "KNN \n",
      "               precision    recall  f1-score   support\n",
      "\n",
      "           0       0.87      0.82      0.84        82\n",
      "           1       0.86      0.90      0.88       102\n",
      "\n",
      "    accuracy                           0.86       184\n",
      "   macro avg       0.86      0.86      0.86       184\n",
      "weighted avg       0.86      0.86      0.86       184\n",
      "\n",
      "Decision Tree \n",
      "               precision    recall  f1-score   support\n",
      "\n",
      "           0       0.73      0.80      0.76        82\n",
      "           1       0.83      0.75      0.79       102\n",
      "\n",
      "    accuracy                           0.78       184\n",
      "   macro avg       0.78      0.78      0.78       184\n",
      "weighted avg       0.78      0.78      0.78       184\n",
      "\n"
     ]
    },
    {
     "data": {
      "text/html": [
       "<div>\n",
       "<style scoped>\n",
       "    .dataframe tbody tr th:only-of-type {\n",
       "        vertical-align: middle;\n",
       "    }\n",
       "\n",
       "    .dataframe tbody tr th {\n",
       "        vertical-align: top;\n",
       "    }\n",
       "\n",
       "    .dataframe thead th {\n",
       "        text-align: right;\n",
       "    }\n",
       "</style>\n",
       "<table border=\"1\" class=\"dataframe\">\n",
       "  <thead>\n",
       "    <tr style=\"text-align: right;\">\n",
       "      <th></th>\n",
       "      <th>recall score</th>\n",
       "    </tr>\n",
       "    <tr>\n",
       "      <th>model</th>\n",
       "      <th></th>\n",
       "    </tr>\n",
       "  </thead>\n",
       "  <tbody>\n",
       "    <tr>\n",
       "      <th>Logistic Regression</th>\n",
       "      <td>0.911765</td>\n",
       "    </tr>\n",
       "    <tr>\n",
       "      <th>KNN</th>\n",
       "      <td>0.901961</td>\n",
       "    </tr>\n",
       "    <tr>\n",
       "      <th>Decision Tree</th>\n",
       "      <td>0.754902</td>\n",
       "    </tr>\n",
       "  </tbody>\n",
       "</table>\n",
       "</div>"
      ],
      "text/plain": [
       "                     recall score\n",
       "model                            \n",
       "Logistic Regression      0.911765\n",
       "KNN                      0.901961\n",
       "Decision Tree            0.754902"
      ]
     },
     "execution_count": 16,
     "metadata": {},
     "output_type": "execute_result"
    }
   ],
   "source": [
    "models = [logreg,knn,tree]\n",
    "score_recall = []\n",
    "\n",
    "def y_pred_func(model, X_train, X_test, y_train):\n",
    "    estimator = Pipeline([\n",
    "        ('preprocess', preprocessor),\n",
    "        ('model', model)\n",
    "    ])\n",
    "    estimator.fit(X_train, y_train)\n",
    "    return estimator, estimator.predict(X_test)\n",
    "\n",
    "# Pastikan X_train, X_test, y_train, y_test sudah didefinisikan sebelumnya\n",
    "for model, name in zip(models, ['Logistic Regression', 'KNN', 'Decision Tree']):\n",
    "    estimator, y_pred = y_pred_func(model, X_train, X_test, y_train)\n",
    "    recall = recall_score(y_test, y_pred)\n",
    "    score_recall.append(recall)\n",
    "    print(name, '\\n', classification_report(y_test, y_pred))\n",
    "\n",
    "df_baseline_test_without_hp = pd.DataFrame({\n",
    "    'model': ['Logistic Regression', 'KNN', 'Decision Tree'],\n",
    "    'recall score': score_recall\n",
    "}).set_index('model').sort_values(by='recall score', ascending=False)\n",
    "df_baseline_test_without_hp"
   ]
  },
  {
   "cell_type": "markdown",
   "id": "dbe197a6",
   "metadata": {},
   "source": [
    "Logistic Regression dan KNN memiliki nilai yang bersaing lebih lanjutnya mari kita train dengan hyperparameter tuning"
   ]
  },
  {
   "cell_type": "markdown",
   "id": "a834aad9",
   "metadata": {},
   "source": [
    "## Base Model Terpilih(LogReg dan KNN) Dengan Hyperparameter Tuning\n"
   ]
  },
  {
   "cell_type": "markdown",
   "id": "90b66e4b",
   "metadata": {},
   "source": [
    "### LogReg with Hyperparameter Tuning "
   ]
  },
  {
   "cell_type": "markdown",
   "id": "76670567",
   "metadata": {},
   "source": [
    "#### Validasi Model dengan Cross-Validation"
   ]
  },
  {
   "cell_type": "code",
   "execution_count": 17,
   "id": "1aa6567e",
   "metadata": {},
   "outputs": [
    {
     "name": "stdout",
     "output_type": "stream",
     "text": [
      "Fitting 5 folds for each of 24 candidates, totalling 120 fits\n",
      "Best Parameters: {'logreg__solver': 'saga', 'logreg__penalty': 'l1', 'logreg__C': 0.001}\n",
      "Best CV Score: 1.0\n",
      "Rata-rata keseluruhan skor CV: 0.8420819532269398\n",
      "Standar Deviasi dari skor CV: 0.18591514780507\n"
     ]
    }
   ],
   "source": [
    "pipeline_logreg = Pipeline([\n",
    "    ('preprocessor', preprocessor),          \n",
    "    ('logreg', LogisticRegression(solver= \"liblinear\", random_state= 10)) \n",
    "    ])\n",
    "\n",
    "hyperparam_space = {\n",
    "    'logreg__penalty': ['l1', 'l2'],\n",
    "    'logreg__C': [0.001, 0.01, 0.1, 1, 10, 100], \n",
    "    'logreg__solver': ['liblinear', 'saga'],  \n",
    "}\n",
    "\n",
    "skfold = StratifiedKFold(n_splits=5, shuffle=True, random_state=10)\n",
    "\n",
    "\n",
    "random_search = RandomizedSearchCV(\n",
    "    estimator=pipeline_logreg,\n",
    "    param_distributions=hyperparam_space, \n",
    "    n_iter=50,  \n",
    "    cv=skfold,  \n",
    "    scoring='recall',\n",
    "    n_jobs=-1,\n",
    "    random_state=10,\n",
    "    verbose=1 \n",
    ")\n",
    "\n",
    "random_search.fit(X_train, y_train)\n",
    "\n",
    "cv_scores = random_search.cv_results_['mean_test_score']\n",
    "mean_overall = np.mean(cv_scores)\n",
    "std_dev = np.std(cv_scores)\n",
    "\n",
    "# Menyimpan rata2 dan standard deviasi model\n",
    "logreg_with_hp_mean = mean_overall\n",
    "logreg_with_hp_std = std_dev\n",
    "\n",
    "print(\"Best Parameters:\", random_search.best_params_)\n",
    "print(\"Best CV Score:\", random_search.best_score_)\n",
    "print(\"Rata-rata keseluruhan skor CV:\", mean_overall)\n",
    "print(\"Standar Deviasi dari skor CV:\", std_dev)\n"
   ]
  },
  {
   "cell_type": "markdown",
   "id": "13d1576f",
   "metadata": {},
   "source": [
    "#### Prediksi dan Evaluasi pada Data Test"
   ]
  },
  {
   "cell_type": "code",
   "execution_count": 18,
   "id": "7777e6df",
   "metadata": {},
   "outputs": [
    {
     "name": "stdout",
     "output_type": "stream",
     "text": [
      "1.0\n",
      "              precision    recall  f1-score   support\n",
      "\n",
      "           0       0.00      0.00      0.00        82\n",
      "           1       0.55      1.00      0.71       102\n",
      "\n",
      "    accuracy                           0.55       184\n",
      "   macro avg       0.28      0.50      0.36       184\n",
      "weighted avg       0.31      0.55      0.40       184\n",
      "\n"
     ]
    }
   ],
   "source": [
    "best_model = random_search.best_estimator_\n",
    "y_pred = best_model.predict(X_test)\n",
    "\n",
    "\n",
    "print(recall_score(y_test, y_pred))\n",
    "\n",
    "# Mencetak classification report untuk metrik lebih lengkap\n",
    "print(classification_report(y_test, y_pred))"
   ]
  },
  {
   "cell_type": "markdown",
   "id": "31949d54",
   "metadata": {},
   "source": [
    "Recall score menunjukan nilai 1.0 ini jelas tidak masuk akal, selanjutnya kita coba retrain logreg tanpa fitur-fitur tersebut(klo sempat)"
   ]
  },
  {
   "cell_type": "code",
   "execution_count": 19,
   "id": "8ab79d56",
   "metadata": {},
   "outputs": [
    {
     "name": "stdout",
     "output_type": "stream",
     "text": [
      "1.0\n",
      "              precision    recall  f1-score   support\n",
      "\n",
      "           0       0.00      0.00      0.00        82\n",
      "           1       0.55      1.00      0.71       102\n",
      "\n",
      "    accuracy                           0.55       184\n",
      "   macro avg       0.28      0.50      0.36       184\n",
      "weighted avg       0.31      0.55      0.40       184\n",
      "\n"
     ]
    }
   ],
   "source": [
    "best_model = random_search.best_estimator_\n",
    "y_pred = best_model.predict(X_test)\n",
    "\n",
    "\n",
    "print(recall_score(y_test, y_pred))\n",
    "\n",
    "# Mencetak classification report untuk metrik lebih lengkap\n",
    "print(classification_report(y_test, y_pred))"
   ]
  },
  {
   "cell_type": "markdown",
   "id": "38438b09",
   "metadata": {},
   "source": [
    "Dari sini bila kita perhatikan score recall logistic regression mencapai 1.0, ini jelas bukan tanda yang bagus mengingat standard deviasinya yang tinggi. Dengan pertimbangan ini dan juga nilai multikolinearitasnya yang tinggi model logistic regression tidak akan digunakan."
   ]
  },
  {
   "cell_type": "markdown",
   "id": "5a73487b",
   "metadata": {},
   "source": [
    "### KNN with Hyperparameter Tuning"
   ]
  },
  {
   "cell_type": "markdown",
   "id": "8da70a28",
   "metadata": {},
   "source": [
    "#### Validasi Model dengan Cross-Validation"
   ]
  },
  {
   "cell_type": "code",
   "execution_count": 20,
   "id": "1dadc418",
   "metadata": {},
   "outputs": [
    {
     "name": "stdout",
     "output_type": "stream",
     "text": [
      "Fitting 5 folds for each of 36 candidates, totalling 180 fits\n",
      "Best Parameters: {'knn__weights': 'uniform', 'knn__n_neighbors': 9, 'knn__metric': 'euclidean', 'knn__leaf_size': 10}\n",
      "Best CV Score: 0.9040048178259561\n",
      "Rata-rata keseluruhan skor CV: 0.894384221619994\n",
      "Standar Deviasi dari skor CV: 0.004200721878583354\n"
     ]
    }
   ],
   "source": [
    "\n",
    "pipeline_knn = Pipeline([\n",
    "    ('preprocessor', preprocessor),          # Step 1: Preprocessing pakai ColumnTransformer\n",
    "    ('knn', KNeighborsClassifier()) \n",
    "    ])\n",
    "\n",
    "hyperparam_space = {\n",
    "    'knn__n_neighbors': [3, 5 ,9],\n",
    "    'knn__weights': ['distance', 'uniform'], # 'uniform', 'distance'\n",
    "    'knn__leaf_size': [10, 20, 30], # 10, 20, 30\n",
    "    'knn__metric': ['euclidean', 'manhattan'] # 'euclidean', 'manhattan'\n",
    "}\n",
    "\n",
    "skfold = StratifiedKFold(n_splits = 5, shuffle = True, random_state = 10)\n",
    "\n",
    "\n",
    "random_search = RandomizedSearchCV(\n",
    "    estimator=pipeline_knn,\n",
    "    param_distributions=hyperparam_space,  \n",
    "    n_iter=50, \n",
    "    cv=skfold,  \n",
    "    scoring='recall',  \n",
    "    n_jobs=-1, \n",
    "    random_state=10,  \n",
    "    verbose=1  \n",
    ")\n",
    "\n",
    "random_search.fit(X_train, y_train)\n",
    "\n",
    "cv_scores = random_search.cv_results_['mean_test_score']\n",
    "mean_overall = np.mean(cv_scores)\n",
    "std_dev = np.std(cv_scores)\n",
    "\n",
    "# Menyimpan rata2 dan standard deviasi model\n",
    "knn_with_hp_mean = mean_overall\n",
    "knn_with_hp_std = std_dev\n",
    "\n",
    "print(\"Best Parameters:\", random_search.best_params_)\n",
    "print(\"Best CV Score:\", random_search.best_score_)\n",
    "print(\"Rata-rata keseluruhan skor CV:\", mean_overall)\n",
    "print(\"Standar Deviasi dari skor CV:\", std_dev)\n"
   ]
  },
  {
   "cell_type": "markdown",
   "id": "07a1dbc1",
   "metadata": {},
   "source": [
    "#### Prediksi dan Evaluasi pada Data Test"
   ]
  },
  {
   "cell_type": "code",
   "execution_count": 21,
   "id": "dc7d1746",
   "metadata": {},
   "outputs": [
    {
     "name": "stdout",
     "output_type": "stream",
     "text": [
      "0.8823529411764706\n",
      "              precision    recall  f1-score   support\n",
      "\n",
      "           0       0.85      0.83      0.84        82\n",
      "           1       0.87      0.88      0.87       102\n",
      "\n",
      "    accuracy                           0.86       184\n",
      "   macro avg       0.86      0.86      0.86       184\n",
      "weighted avg       0.86      0.86      0.86       184\n",
      "\n"
     ]
    }
   ],
   "source": [
    "best_model = random_search.best_estimator_\n",
    "y_pred = best_model.predict(X_test)\n",
    "\n",
    "\n",
    "print(recall_score(y_test, y_pred))\n",
    "\n",
    "# Mencetak classification report untuk metrik lebih lengkap\n",
    "print(classification_report(y_test, y_pred))"
   ]
  },
  {
   "cell_type": "markdown",
   "id": "472c190f",
   "metadata": {},
   "source": [
    "### Decision Tree with Hyperparameter Tuning"
   ]
  },
  {
   "cell_type": "markdown",
   "id": "dc2c7954",
   "metadata": {},
   "source": [
    "#### Validasi Model dengan Cross-Validation"
   ]
  },
  {
   "cell_type": "code",
   "execution_count": 22,
   "id": "a59502af",
   "metadata": {},
   "outputs": [
    {
     "name": "stdout",
     "output_type": "stream",
     "text": [
      "Fitting 5 folds for each of 50 candidates, totalling 250 fits\n",
      "Best Parameters: {'tree__min_samples_split': 2, 'tree__min_samples_leaf': 2, 'tree__max_features': 'log2', 'tree__max_depth': 5, 'tree__criterion': 'entropy', 'tree__class_weight': 'balanced'}\n",
      "Best CV Score: 0.8473050286058417\n",
      "Rata-rata keseluruhan skor CV: 0.6869015356820235\n",
      "Standar Deviasi dari skor CV: 0.08725046601117935\n"
     ]
    }
   ],
   "source": [
    "pipeline_tree = Pipeline([\n",
    "    ('preprocessor', preprocessor), # Step 1: Preprocessing pakai ColumnTransformer\n",
    "    ('tree', DecisionTreeClassifier(random_state=10)) \n",
    "    ])\n",
    "\n",
    "hyperparam_space = {\n",
    "    'tree__criterion': ['gini', 'entropy'],\n",
    "    'tree__max_depth': [2, 3, 4, 5],\n",
    "    'tree__min_samples_split': [2, 5],\n",
    "    'tree__min_samples_leaf': [2, 4],\n",
    "    'tree__max_features': ['sqrt', 'log2'],\n",
    "    'tree__class_weight': ['balanced']\n",
    "}\n",
    "\n",
    "skfold = StratifiedKFold(n_splits = 5, random_state=10, shuffle=True)\n",
    "\n",
    "\n",
    "random_search = RandomizedSearchCV(\n",
    "    estimator=pipeline_tree,\n",
    "    param_distributions=hyperparam_space,\n",
    "    n_iter=50,  \n",
    "    cv=skfold,  \n",
    "    scoring='recall',  \n",
    "    n_jobs=-1,  \n",
    "    random_state=10, \n",
    "    verbose=1  \n",
    ")\n",
    "\n",
    "random_search.fit(X_train, y_train)\n",
    "\n",
    "cv_scores = random_search.cv_results_['mean_test_score']\n",
    "mean_overall = np.mean(cv_scores)\n",
    "std_dev = np.std(cv_scores)\n",
    "\n",
    "# Menyimpan rata2 dan standard deviasi model\n",
    "tree_with_hp_mean = mean_overall\n",
    "tree_with_hp_std = std_dev\n",
    "\n",
    "print(\"Best Parameters:\", random_search.best_params_)\n",
    "print(\"Best CV Score:\", random_search.best_score_)\n",
    "print(\"Rata-rata keseluruhan skor CV:\", mean_overall)\n",
    "print(\"Standar Deviasi dari skor CV:\", std_dev)"
   ]
  },
  {
   "cell_type": "markdown",
   "id": "33070621",
   "metadata": {},
   "source": [
    "#### Prediksi dan Evaluasi pada Data Test"
   ]
  },
  {
   "cell_type": "code",
   "execution_count": 23,
   "id": "3017363f",
   "metadata": {},
   "outputs": [
    {
     "name": "stdout",
     "output_type": "stream",
     "text": [
      "0.8333333333333334\n",
      "              precision    recall  f1-score   support\n",
      "\n",
      "           0       0.80      0.83      0.81        82\n",
      "           1       0.86      0.83      0.85       102\n",
      "\n",
      "    accuracy                           0.83       184\n",
      "   macro avg       0.83      0.83      0.83       184\n",
      "weighted avg       0.83      0.83      0.83       184\n",
      "\n"
     ]
    }
   ],
   "source": [
    "best_model = random_search.best_estimator_\n",
    "y_pred = best_model.predict(X_test)\n",
    "\n",
    "\n",
    "print(recall_score(y_test, y_pred))\n",
    "\n",
    "# Mencetak classification report untuk metrik lebih lengkap\n",
    "print(classification_report(y_test, y_pred))"
   ]
  },
  {
   "cell_type": "markdown",
   "id": "f06d8a9b",
   "metadata": {},
   "source": [
    "## Ensemble Model (Random Forest, Xgboost, lgb) Tanpa Hyperparameter Tuning"
   ]
  },
  {
   "cell_type": "markdown",
   "id": "d767b0d1",
   "metadata": {},
   "source": [
    "#### Validasi Model dengan Cross-Validation"
   ]
  },
  {
   "cell_type": "code",
   "execution_count": 24,
   "id": "6c4ea607",
   "metadata": {},
   "outputs": [],
   "source": [
    "rf = RandomForestClassifier(random_state= 10)\n",
    "xgb = XGBClassifier(random_state= 10)\n",
    "lgbm = lgb.LGBMClassifier(random_state= 10, verbosity= -1)"
   ]
  },
  {
   "cell_type": "code",
   "execution_count": 25,
   "id": "5e248fc8",
   "metadata": {},
   "outputs": [
    {
     "data": {
      "text/html": [
       "<div>\n",
       "<style scoped>\n",
       "    .dataframe tbody tr th:only-of-type {\n",
       "        vertical-align: middle;\n",
       "    }\n",
       "\n",
       "    .dataframe tbody tr th {\n",
       "        vertical-align: top;\n",
       "    }\n",
       "\n",
       "    .dataframe thead th {\n",
       "        text-align: right;\n",
       "    }\n",
       "</style>\n",
       "<table border=\"1\" class=\"dataframe\">\n",
       "  <thead>\n",
       "    <tr style=\"text-align: right;\">\n",
       "      <th></th>\n",
       "      <th>mean recall</th>\n",
       "      <th>sdev</th>\n",
       "    </tr>\n",
       "    <tr>\n",
       "      <th>model</th>\n",
       "      <th></th>\n",
       "      <th></th>\n",
       "    </tr>\n",
       "  </thead>\n",
       "  <tbody>\n",
       "    <tr>\n",
       "      <th>XGBoost</th>\n",
       "      <td>0.886902</td>\n",
       "      <td>0.046906</td>\n",
       "    </tr>\n",
       "    <tr>\n",
       "      <th>LightGBM</th>\n",
       "      <td>0.886781</td>\n",
       "      <td>0.023423</td>\n",
       "    </tr>\n",
       "    <tr>\n",
       "      <th>Random Forest</th>\n",
       "      <td>0.881933</td>\n",
       "      <td>0.041039</td>\n",
       "    </tr>\n",
       "  </tbody>\n",
       "</table>\n",
       "</div>"
      ],
      "text/plain": [
       "               mean recall      sdev\n",
       "model                               \n",
       "XGBoost           0.886902  0.046906\n",
       "LightGBM          0.886781  0.023423\n",
       "Random Forest     0.881933  0.041039"
      ]
     },
     "execution_count": 25,
     "metadata": {},
     "output_type": "execute_result"
    }
   ],
   "source": [
    "models = [rf,xgb,lgbm]\n",
    "score=[]\n",
    "rata=[]\n",
    "std=[]\n",
    "\n",
    "for i in models:\n",
    "    skfold=StratifiedKFold(n_splits=5, shuffle=True, random_state= 10)\n",
    "    estimator=Pipeline([\n",
    "        ('preprocess',preprocessor),\n",
    "        ('model',i)])\n",
    "    model_cv=cross_val_score(estimator,X_train,y_train,cv=skfold,scoring='recall')\n",
    "    score.append(model_cv)\n",
    "    rata.append(model_cv.mean())\n",
    "    std.append(model_cv.std())\n",
    "    \n",
    "df_ensemble_model_without_hp = pd.DataFrame({'model':['Random Forest', 'XGBoost', 'LightGBM'],'mean recall':rata,'sdev':std}).set_index('model').sort_values(by='mean recall',ascending=False)\n",
    "df_ensemble_model_without_hp"
   ]
  },
  {
   "cell_type": "markdown",
   "id": "14b03386",
   "metadata": {},
   "source": [
    "#### Prediksi dan Evaluasi pada Data Test"
   ]
  },
  {
   "cell_type": "code",
   "execution_count": 26,
   "id": "8717cd44",
   "metadata": {},
   "outputs": [
    {
     "name": "stdout",
     "output_type": "stream",
     "text": [
      "Random Forest \n",
      "               precision    recall  f1-score   support\n",
      "\n",
      "           0       0.87      0.88      0.87        82\n",
      "           1       0.90      0.89      0.90       102\n",
      "\n",
      "    accuracy                           0.89       184\n",
      "   macro avg       0.88      0.89      0.88       184\n",
      "weighted avg       0.89      0.89      0.89       184\n",
      "\n",
      "XGBoost \n",
      "               precision    recall  f1-score   support\n",
      "\n",
      "           0       0.85      0.87      0.86        82\n",
      "           1       0.89      0.87      0.88       102\n",
      "\n",
      "    accuracy                           0.87       184\n",
      "   macro avg       0.87      0.87      0.87       184\n",
      "weighted avg       0.87      0.87      0.87       184\n",
      "\n",
      "LightGBM \n",
      "               precision    recall  f1-score   support\n",
      "\n",
      "           0       0.82      0.85      0.84        82\n",
      "           1       0.88      0.85      0.87       102\n",
      "\n",
      "    accuracy                           0.85       184\n",
      "   macro avg       0.85      0.85      0.85       184\n",
      "weighted avg       0.85      0.85      0.85       184\n",
      "\n"
     ]
    },
    {
     "data": {
      "text/html": [
       "<div>\n",
       "<style scoped>\n",
       "    .dataframe tbody tr th:only-of-type {\n",
       "        vertical-align: middle;\n",
       "    }\n",
       "\n",
       "    .dataframe tbody tr th {\n",
       "        vertical-align: top;\n",
       "    }\n",
       "\n",
       "    .dataframe thead th {\n",
       "        text-align: right;\n",
       "    }\n",
       "</style>\n",
       "<table border=\"1\" class=\"dataframe\">\n",
       "  <thead>\n",
       "    <tr style=\"text-align: right;\">\n",
       "      <th></th>\n",
       "      <th>recall score</th>\n",
       "    </tr>\n",
       "    <tr>\n",
       "      <th>model</th>\n",
       "      <th></th>\n",
       "    </tr>\n",
       "  </thead>\n",
       "  <tbody>\n",
       "    <tr>\n",
       "      <th>Random Forest</th>\n",
       "      <td>0.892157</td>\n",
       "    </tr>\n",
       "    <tr>\n",
       "      <th>XGBoost</th>\n",
       "      <td>0.872549</td>\n",
       "    </tr>\n",
       "    <tr>\n",
       "      <th>LightGBM</th>\n",
       "      <td>0.852941</td>\n",
       "    </tr>\n",
       "  </tbody>\n",
       "</table>\n",
       "</div>"
      ],
      "text/plain": [
       "               recall score\n",
       "model                      \n",
       "Random Forest      0.892157\n",
       "XGBoost            0.872549\n",
       "LightGBM           0.852941"
      ]
     },
     "execution_count": 26,
     "metadata": {},
     "output_type": "execute_result"
    }
   ],
   "source": [
    "models = [rf,xgb,lgbm]\n",
    "score_recall = []\n",
    "\n",
    "\n",
    "\n",
    "def y_pred_func(model, X_train, X_test, y_train):\n",
    "    estimator = Pipeline([\n",
    "        ('preprocess', preprocessor),\n",
    "        ('model', model)\n",
    "    ])\n",
    "    estimator.fit(X_train, y_train)\n",
    "    return estimator, estimator.predict(X_test)\n",
    "\n",
    "# Pastikan X_train, X_test, y_train, y_test sudah didefinisikan sebelumnya\n",
    "for model, name in zip(models, ['Random Forest', 'XGBoost', 'LightGBM']):\n",
    "    estimator, y_pred = y_pred_func(model, X_train, X_test, y_train)\n",
    "    recall = recall_score(y_test, y_pred)\n",
    "    score_recall.append(recall)\n",
    "    print(name, '\\n', classification_report(y_test, y_pred))\n",
    "\n",
    "ensemble_model_test_df = pd.DataFrame({\n",
    "    'model': ['Random Forest', 'XGBoost', 'LightGBM'],\n",
    "    'recall score': score_recall\n",
    "}).set_index('model').sort_values(by='recall score', ascending=False)\n",
    "ensemble_model_test_df"
   ]
  },
  {
   "cell_type": "markdown",
   "id": "b7ae04f0",
   "metadata": {},
   "source": [
    "## Ensemble Model (Random Forest, XGBoost, LightGBM) Dengan Hyperparameter Tuning"
   ]
  },
  {
   "cell_type": "markdown",
   "id": "1eb84f2a",
   "metadata": {},
   "source": [
    "### Random Forest with Hyperparameter Tuning"
   ]
  },
  {
   "cell_type": "markdown",
   "id": "b13bb69a",
   "metadata": {},
   "source": [
    "#### Validasi Model dengan Cross-Validation"
   ]
  },
  {
   "cell_type": "code",
   "execution_count": 27,
   "id": "aead2040",
   "metadata": {},
   "outputs": [
    {
     "name": "stdout",
     "output_type": "stream",
     "text": [
      "Fitting 5 folds for each of 12 candidates, totalling 60 fits\n",
      "Best Parameters: {'rf__n_estimators': 200, 'rf__min_samples_leaf': 5, 'rf__max_depth': 20, 'rf__class_weight': 'balanced'}\n",
      "Best CV Score: 0.8942186088527551\n",
      "Rata-rata keseluruhan skor CV: 0.8884924219612566\n",
      "Standar Deviasi dari skor CV: 0.003380128037990341\n"
     ]
    }
   ],
   "source": [
    "pipeline_rf = Pipeline([\n",
    "    ('preprocessor', preprocessor),  # Memanggil preprocessor dari atas       \n",
    "    ('rf', RandomForestClassifier(random_state=42)) \n",
    "    ])\n",
    "\n",
    "hyperparam_space = {\n",
    "    'rf__n_estimators': [100, 200],\n",
    "    'rf__max_depth': [10, 20],\n",
    "    'rf__min_samples_leaf': [3, 5, 7],\n",
    "    'rf__class_weight': ['balanced']\n",
    "}\n",
    "\n",
    "skfold = StratifiedKFold(n_splits = 5, random_state=10, shuffle=True)\n",
    "\n",
    "\n",
    "random_search = RandomizedSearchCV(\n",
    "    estimator=pipeline_rf,\n",
    "    param_distributions=hyperparam_space,  \n",
    "    n_iter=50,  \n",
    "    cv=skfold,   \n",
    "    scoring='recall',  \n",
    "    n_jobs=-1,  \n",
    "    random_state=10,  \n",
    "    verbose=1  \n",
    ")\n",
    "\n",
    "random_search.fit(X_train, y_train)\n",
    "\n",
    "cv_scores = random_search.cv_results_['mean_test_score']\n",
    "mean_overall = np.mean(cv_scores)\n",
    "std_dev = np.std(cv_scores)\n",
    "\n",
    "# Menyimpan rata2 dan standard deviasi model\n",
    "rf_with_hp_mean = mean_overall\n",
    "rf_with_hp_std = std_dev\n",
    "\n",
    "print(\"Best Parameters:\", random_search.best_params_)\n",
    "print(\"Best CV Score:\", random_search.best_score_)\n",
    "print(\"Rata-rata keseluruhan skor CV:\", mean_overall)\n",
    "print(\"Standar Deviasi dari skor CV:\", std_dev)"
   ]
  },
  {
   "cell_type": "code",
   "execution_count": 28,
   "id": "88a49a85",
   "metadata": {},
   "outputs": [
    {
     "name": "stdout",
     "output_type": "stream",
     "text": [
      "Jumlah feature names: 15\n",
      "Jumlah feature importances: 15\n",
      "              feature  importance\n",
      "5         ST_Slope_Up    0.208797\n",
      "4       ST_Slope_Flat    0.176452\n",
      "1    ExerciseAngina_Y    0.126737\n",
      "14            Oldpeak    0.117067\n",
      "11              MaxHR    0.095925\n",
      "12                Age    0.066355\n",
      "13          RestingBP    0.044338\n",
      "6   ChestPainType_ATA    0.042024\n",
      "9               Sex_M    0.036581\n",
      "10        FastingBS_1    0.027863\n"
     ]
    },
    {
     "data": {
      "image/png": "[encoded data removed]",
      "text/plain": [
       "<Figure size 1000x600 with 1 Axes>"
      ]
     },
     "metadata": {},
     "output_type": "display_data"
    }
   ],
   "source": [
    "from sklearn.pipeline import Pipeline\n",
    "from sklearn.compose import ColumnTransformer\n",
    "import pandas as pd\n",
    "import numpy as np\n",
    "import matplotlib.pyplot as plt\n",
    "\n",
    "# Ambil pipeline terbaik\n",
    "best_pipeline = random_search.best_estimator_\n",
    "\n",
    "# Ambil model RandomForest dari pipeline\n",
    "rf_model = best_pipeline.named_steps['rf']\n",
    "\n",
    "# Ambil preprocessor (sudah di-fit)\n",
    "preprocessor = best_pipeline.named_steps['preprocessor']\n",
    "\n",
    "# Ambil nama-nama fitur hasil transformasi\n",
    "try:\n",
    "    feature_names = preprocessor.get_feature_names_out()\n",
    "except:\n",
    "    # Kalau preprocessor gabungan (ColumnTransformer), kita ambil manual\n",
    "    feature_names = []\n",
    "    for name, transformer, cols in preprocessor.transformers_:\n",
    "        if transformer == 'drop':\n",
    "            continue\n",
    "        elif transformer == 'passthrough':\n",
    "            feature_names.extend(cols)\n",
    "        else:\n",
    "            try:\n",
    "                # Bisa panggil get_feature_names_out\n",
    "                names = transformer.get_feature_names_out(cols)\n",
    "                feature_names.extend(names)\n",
    "            except:\n",
    "                # Kalau tidak bisa, pakai nama kolom mentahnya\n",
    "                feature_names.extend(cols)\n",
    "\n",
    "# Pastikan panjangnya cocok\n",
    "print(f\"Jumlah feature names: {len(feature_names)}\")\n",
    "print(f\"Jumlah feature importances: {len(rf_model.feature_importances_)}\")\n",
    "\n",
    "# Sekarang aman bikin DataFrame\n",
    "feature_importance_df = pd.DataFrame({\n",
    "    'feature': feature_names,\n",
    "    'importance': rf_model.feature_importances_\n",
    "}).sort_values(by='importance', ascending=False)\n",
    "\n",
    "# Tampilkan 10 besar\n",
    "print(feature_importance_df.head(10))\n",
    "\n",
    "# Plot top 10\n",
    "plt.figure(figsize=(10,6))\n",
    "plt.barh(feature_importance_df['feature'][:10][::-1], feature_importance_df['importance'][:10][::-1])\n",
    "plt.xlabel('Feature Importance')\n",
    "plt.ylabel('Feature')\n",
    "plt.title('Top 10 Feature Importances - Random Forest')\n",
    "plt.tight_layout()\n",
    "plt.show()\n"
   ]
  },
  {
   "cell_type": "code",
   "execution_count": 29,
   "id": "1a60cf9c",
   "metadata": {},
   "outputs": [
    {
     "name": "stdout",
     "output_type": "stream",
     "text": [
      "0.8529411764705882\n",
      "              precision    recall  f1-score   support\n",
      "\n",
      "           0       0.83      0.87      0.85        82\n",
      "           1       0.89      0.85      0.87       102\n",
      "\n",
      "    accuracy                           0.86       184\n",
      "   macro avg       0.86      0.86      0.86       184\n",
      "weighted avg       0.86      0.86      0.86       184\n",
      "\n"
     ]
    }
   ],
   "source": [
    "best_model = random_search.best_estimator_\n",
    "y_pred = best_model.predict(X_test)\n",
    "\n",
    "\n",
    "rf_with_hp_test_score = recall_score(y_test, y_pred)\n",
    "print(rf_with_hp_test_score)\n",
    "# Mencetak classification report untuk metrik lebih lengkap\n",
    "print(classification_report(y_test, y_pred))"
   ]
  },
  {
   "cell_type": "markdown",
   "id": "406a2ff9",
   "metadata": {},
   "source": [
    "### XGBoost with Hyperparameter Tuning"
   ]
  },
  {
   "cell_type": "markdown",
   "id": "4411836f",
   "metadata": {},
   "source": [
    "#### Validasi Model dengan Cross-Validation"
   ]
  },
  {
   "cell_type": "code",
   "execution_count": 30,
   "id": "a7afecd1",
   "metadata": {},
   "outputs": [
    {
     "name": "stdout",
     "output_type": "stream",
     "text": [
      "Fitting 5 folds for each of 50 candidates, totalling 250 fits\n",
      "Best Parameters: {'xgb__colsample_bytree': np.float64(0.6744991096991889), 'xgb__learning_rate': np.float64(0.1341393419495342), 'xgb__max_depth': 3, 'xgb__min_child_weight': 2, 'xgb__n_estimators': 100, 'xgb__subsample': np.float64(0.8027914517056189)}\n",
      "Best CV Score: 0.9115025594700391\n",
      "Rata-rata keseluruhan skor CV: 0.8947570009033424\n",
      "Standar Deviasi dari skor CV: 0.008415188142531302\n"
     ]
    }
   ],
   "source": [
    "pipeline_xgb = Pipeline([\n",
    "    ('preprocessor', preprocessor),          # Step 1: Preprocessing pakai ColumnTransformer\n",
    "    ('xgb', XGBClassifier(use_label_encoder=False, eval_metric='logloss', random_state= 10))\n",
    "    ])\n",
    "\n",
    "param_dist = {\n",
    "    'xgb__n_estimators': [100, 200],\n",
    "    'xgb__learning_rate': uniform(0.01, 0.3),  # uniform distribution untuk learning rate\n",
    "    'xgb__max_depth': [3, 4, 5, 6],\n",
    "    'xgb__min_child_weight': [2, 3],\n",
    "    'xgb__subsample': uniform(0.6, 0.4),  # random sampling dari subset data\n",
    "    'xgb__colsample_bytree': uniform(0.6, 0.4)  # random sampling untuk kolom\n",
    "}\n",
    "\n",
    "skfold = StratifiedKFold(n_splits = 5, random_state=10, shuffle=True)\n",
    "\n",
    "\n",
    "random_search = RandomizedSearchCV(\n",
    "    estimator=pipeline_xgb,\n",
    "    param_distributions=param_dist,  \n",
    "    n_iter=50,  \n",
    "    cv=skfold,  \n",
    "    scoring='recall',  \n",
    "    n_jobs=-1,  \n",
    "    random_state=10,  \n",
    "    verbose=1  \n",
    ")\n",
    "\n",
    "random_search.fit(X_train, y_train)\n",
    "\n",
    "cv_scores = random_search.cv_results_['mean_test_score']\n",
    "mean_overall = np.mean(cv_scores)\n",
    "std_dev = np.std(cv_scores)\n",
    "\n",
    "# Menyimpan rata2 dan standard deviasi model\n",
    "xgb_with_hp_mean = mean_overall\n",
    "xgb_with_hp_std = std_dev\n",
    "\n",
    "print(\"Best Parameters:\", random_search.best_params_)\n",
    "print(\"Best CV Score:\", random_search.best_score_)\n",
    "print(\"Rata-rata keseluruhan skor CV:\", mean_overall)\n",
    "print(\"Standar Deviasi dari skor CV:\", std_dev)"
   ]
  },
  {
   "cell_type": "markdown",
   "id": "e0086212",
   "metadata": {},
   "source": [
    "#### Prediksi dan Evaluasi pada Data Test"
   ]
  },
  {
   "cell_type": "code",
   "execution_count": 31,
   "id": "ae8b47b9",
   "metadata": {},
   "outputs": [
    {
     "name": "stdout",
     "output_type": "stream",
     "text": [
      "0.8823529411764706\n",
      "              precision    recall  f1-score   support\n",
      "\n",
      "           0       0.86      0.87      0.86        82\n",
      "           1       0.89      0.88      0.89       102\n",
      "\n",
      "    accuracy                           0.88       184\n",
      "   macro avg       0.87      0.87      0.87       184\n",
      "weighted avg       0.88      0.88      0.88       184\n",
      "\n"
     ]
    }
   ],
   "source": [
    "best_model = random_search.best_estimator_\n",
    "y_pred = best_model.predict(X_test)\n",
    "\n",
    "\n",
    "xgb_with_hp_test_score = recall_score(y_test, y_pred)\n",
    "print(xgb_with_hp_test_score)\n",
    "# Mencetak classification report untuk metrik lebih lengkap\n",
    "print(classification_report(y_test, y_pred))"
   ]
  },
  {
   "cell_type": "markdown",
   "id": "59bbb66f",
   "metadata": {},
   "source": [
    "### LightGBM with Hyperparameter Tuning"
   ]
  },
  {
   "cell_type": "markdown",
   "id": "cc93274a",
   "metadata": {},
   "source": [
    "#### Validasi Model dengan Cross-Validation"
   ]
  },
  {
   "cell_type": "code",
   "execution_count": 32,
   "id": "477a5f22",
   "metadata": {},
   "outputs": [
    {
     "name": "stdout",
     "output_type": "stream",
     "text": [
      "Fitting 5 folds for each of 50 candidates, totalling 250 fits\n",
      "Best Parameters: {'lgbm__colsample_bytree': np.float64(0.6601511469047063), 'lgbm__learning_rate': np.float64(0.14676368587224684), 'lgbm__max_depth': 7, 'lgbm__min_child_samples': 21, 'lgbm__n_estimators': 154, 'lgbm__num_leaves': 108, 'lgbm__reg_alpha': np.float64(1.625241923304227), 'lgbm__reg_lambda': np.float64(1.2250521336587763), 'lgbm__subsample': np.float64(0.8887021269727198)}\n",
      "Best CV Score: 0.9139114724480578\n",
      "Rata-rata keseluruhan skor CV: 0.8966431797651307\n",
      "Standar Deviasi dari skor CV: 0.008156254478894865\n"
     ]
    }
   ],
   "source": [
    "pipeline_lgbm = Pipeline([\n",
    "    ('preprocessor', preprocessor),          # Step 1: Preprocessing pakai ColumnTransformer\n",
    "    ('lgbm', LGBMClassifier(random_state=10, n_jobs=-1))\n",
    "    ])\n",
    "\n",
    "param_dist = {\n",
    "    'lgbm__num_leaves': randint(20, 150),\n",
    "    'lgbm__max_depth': randint(3, 15),\n",
    "    'lgbm__learning_rate': uniform(0.01, 0.2),\n",
    "    'lgbm__n_estimators': randint(100, 1000),\n",
    "    'lgbm__min_child_samples': randint(10, 100),\n",
    "    'lgbm__subsample': uniform(0.6, 0.4),\n",
    "    'lgbm__colsample_bytree': uniform(0.6, 0.4),\n",
    "    'lgbm__reg_alpha': uniform(0.0, 2.0),\n",
    "    'lgbm__reg_lambda': uniform(0.0, 2.0),\n",
    "}\n",
    "\n",
    "skfold = StratifiedKFold(n_splits = 5, random_state=10, shuffle=True)\n",
    "\n",
    "\n",
    "random_search = RandomizedSearchCV(\n",
    "    estimator=pipeline_lgbm,\n",
    "    param_distributions=param_dist, \n",
    "    n_iter=50,  \n",
    "    cv=skfold,  \n",
    "    scoring='recall',  \n",
    "    n_jobs=-1,  \n",
    "    random_state=10,  \n",
    "    verbose=1  \n",
    ")\n",
    "\n",
    "random_search.fit(X_train, y_train)\n",
    "\n",
    "cv_scores = random_search.cv_results_['mean_test_score']\n",
    "mean_overall = np.mean(cv_scores)\n",
    "std_dev = np.std(cv_scores)\n",
    "\n",
    "# Menyimpan rata2 dan standard deviasi model\n",
    "lgbm_with_hp_mean = mean_overall\n",
    "lgbm_with_hp_std = std_dev\n",
    "\n",
    "print(\"Best Parameters:\", random_search.best_params_)\n",
    "print(\"Best CV Score:\", random_search.best_score_)\n",
    "print(\"Rata-rata keseluruhan skor CV:\", mean_overall)\n",
    "print(\"Standar Deviasi dari skor CV:\", std_dev)"
   ]
  },
  {
   "cell_type": "markdown",
   "id": "690f6016",
   "metadata": {},
   "source": [
    "#### Prediksi dan Evaluasi pada Data Test"
   ]
  },
  {
   "cell_type": "code",
   "execution_count": 33,
   "id": "bb4eff84",
   "metadata": {},
   "outputs": [
    {
     "name": "stdout",
     "output_type": "stream",
     "text": [
      "0.8725490196078431\n",
      "              precision    recall  f1-score   support\n",
      "\n",
      "           0       0.85      0.87      0.86        82\n",
      "           1       0.89      0.87      0.88       102\n",
      "\n",
      "    accuracy                           0.87       184\n",
      "   macro avg       0.87      0.87      0.87       184\n",
      "weighted avg       0.87      0.87      0.87       184\n",
      "\n"
     ]
    }
   ],
   "source": [
    "best_model = random_search.best_estimator_\n",
    "y_pred = best_model.predict(X_test)\n",
    "\n",
    "\n",
    "lgbm_with_hp_test_score = recall_score(y_test, y_pred)\n",
    "print(lgbm_with_hp_test_score)\n",
    "\n",
    "# Mencetak classification report untuk metrik lebih lengkap\n",
    "print(classification_report(y_test, y_pred))"
   ]
  },
  {
   "cell_type": "markdown",
   "id": "ad577c26",
   "metadata": {},
   "source": [
    "## Kesimpulan hasil dari eksplorasi beberapa model\n",
    "\n",
    "### Berikut adalah performa setiap model"
   ]
  },
  {
   "cell_type": "code",
   "execution_count": 34,
   "id": "df1c8a7b",
   "metadata": {},
   "outputs": [
    {
     "data": {
      "text/html": [
       "<div>\n",
       "<style scoped>\n",
       "    .dataframe tbody tr th:only-of-type {\n",
       "        vertical-align: middle;\n",
       "    }\n",
       "\n",
       "    .dataframe tbody tr th {\n",
       "        vertical-align: top;\n",
       "    }\n",
       "\n",
       "    .dataframe thead th {\n",
       "        text-align: right;\n",
       "    }\n",
       "</style>\n",
       "<table border=\"1\" class=\"dataframe\">\n",
       "  <thead>\n",
       "    <tr style=\"text-align: right;\">\n",
       "      <th></th>\n",
       "      <th>mean recall</th>\n",
       "      <th>sdev</th>\n",
       "    </tr>\n",
       "    <tr>\n",
       "      <th>model</th>\n",
       "      <th></th>\n",
       "      <th></th>\n",
       "    </tr>\n",
       "  </thead>\n",
       "  <tbody>\n",
       "    <tr>\n",
       "      <th>KNN</th>\n",
       "      <td>0.884146</td>\n",
       "      <td>0.051998</td>\n",
       "    </tr>\n",
       "    <tr>\n",
       "      <th>Logistic Regression</th>\n",
       "      <td>0.871768</td>\n",
       "      <td>0.057687</td>\n",
       "    </tr>\n",
       "    <tr>\n",
       "      <th>Decision Tree</th>\n",
       "      <td>0.788415</td>\n",
       "      <td>0.055346</td>\n",
       "    </tr>\n",
       "  </tbody>\n",
       "</table>\n",
       "</div>"
      ],
      "text/plain": [
       "                     mean recall      sdev\n",
       "model                                     \n",
       "KNN                     0.884146  0.051998\n",
       "Logistic Regression     0.871768  0.057687\n",
       "Decision Tree           0.788415  0.055346"
      ]
     },
     "execution_count": 34,
     "metadata": {},
     "output_type": "execute_result"
    }
   ],
   "source": [
    "df_baseline_model_without_hp"
   ]
  },
  {
   "cell_type": "code",
   "execution_count": 35,
   "id": "c9a05a4a",
   "metadata": {},
   "outputs": [
    {
     "data": {
      "text/html": [
       "<div>\n",
       "<style scoped>\n",
       "    .dataframe tbody tr th:only-of-type {\n",
       "        vertical-align: middle;\n",
       "    }\n",
       "\n",
       "    .dataframe tbody tr th {\n",
       "        vertical-align: top;\n",
       "    }\n",
       "\n",
       "    .dataframe thead th {\n",
       "        text-align: right;\n",
       "    }\n",
       "</style>\n",
       "<table border=\"1\" class=\"dataframe\">\n",
       "  <thead>\n",
       "    <tr style=\"text-align: right;\">\n",
       "      <th></th>\n",
       "      <th>mean recall</th>\n",
       "      <th>sdev</th>\n",
       "    </tr>\n",
       "    <tr>\n",
       "      <th>model</th>\n",
       "      <th></th>\n",
       "      <th></th>\n",
       "    </tr>\n",
       "  </thead>\n",
       "  <tbody>\n",
       "    <tr>\n",
       "      <th>KNN</th>\n",
       "      <td>0.894384</td>\n",
       "      <td>0.185915</td>\n",
       "    </tr>\n",
       "    <tr>\n",
       "      <th>Logistic Regression</th>\n",
       "      <td>0.842082</td>\n",
       "      <td>0.185915</td>\n",
       "    </tr>\n",
       "    <tr>\n",
       "      <th>Decision Tree</th>\n",
       "      <td>0.686902</td>\n",
       "      <td>0.087250</td>\n",
       "    </tr>\n",
       "  </tbody>\n",
       "</table>\n",
       "</div>"
      ],
      "text/plain": [
       "                     mean recall      sdev\n",
       "model                                     \n",
       "KNN                     0.894384  0.185915\n",
       "Logistic Regression     0.842082  0.185915\n",
       "Decision Tree           0.686902  0.087250"
      ]
     },
     "execution_count": 35,
     "metadata": {},
     "output_type": "execute_result"
    }
   ],
   "source": [
    "model_names = ['Logistic Regression', 'KNN', 'Decision Tree']\n",
    "\n",
    "rata = [logreg_with_hp_mean, knn_with_hp_mean, tree_with_hp_mean]\n",
    "std = [logreg_with_hp_std, logreg_with_hp_std, tree_with_hp_std]\n",
    "\n",
    "df_cv_result_baseline_with_hp = pd.DataFrame({\n",
    "    'model': model_names,\n",
    "    'mean recall': rata,\n",
    "    'sdev': std\n",
    "}).set_index('model').sort_values(by='mean recall', ascending=False)\n",
    "\n",
    "df_cv_result_baseline_with_hp\n"
   ]
  },
  {
   "cell_type": "markdown",
   "id": "820dc45b",
   "metadata": {},
   "source": [
    "Ensemble Model Tanpa Hyperparameter Tuning"
   ]
  },
  {
   "cell_type": "code",
   "execution_count": 36,
   "id": "28d73d26",
   "metadata": {},
   "outputs": [
    {
     "data": {
      "text/html": [
       "<div>\n",
       "<style scoped>\n",
       "    .dataframe tbody tr th:only-of-type {\n",
       "        vertical-align: middle;\n",
       "    }\n",
       "\n",
       "    .dataframe tbody tr th {\n",
       "        vertical-align: top;\n",
       "    }\n",
       "\n",
       "    .dataframe thead th {\n",
       "        text-align: right;\n",
       "    }\n",
       "</style>\n",
       "<table border=\"1\" class=\"dataframe\">\n",
       "  <thead>\n",
       "    <tr style=\"text-align: right;\">\n",
       "      <th></th>\n",
       "      <th>mean recall</th>\n",
       "      <th>sdev</th>\n",
       "    </tr>\n",
       "    <tr>\n",
       "      <th>model</th>\n",
       "      <th></th>\n",
       "      <th></th>\n",
       "    </tr>\n",
       "  </thead>\n",
       "  <tbody>\n",
       "    <tr>\n",
       "      <th>XGBoost</th>\n",
       "      <td>0.886902</td>\n",
       "      <td>0.046906</td>\n",
       "    </tr>\n",
       "    <tr>\n",
       "      <th>LightGBM</th>\n",
       "      <td>0.886781</td>\n",
       "      <td>0.023423</td>\n",
       "    </tr>\n",
       "    <tr>\n",
       "      <th>Random Forest</th>\n",
       "      <td>0.881933</td>\n",
       "      <td>0.041039</td>\n",
       "    </tr>\n",
       "  </tbody>\n",
       "</table>\n",
       "</div>"
      ],
      "text/plain": [
       "               mean recall      sdev\n",
       "model                               \n",
       "XGBoost           0.886902  0.046906\n",
       "LightGBM          0.886781  0.023423\n",
       "Random Forest     0.881933  0.041039"
      ]
     },
     "execution_count": 36,
     "metadata": {},
     "output_type": "execute_result"
    }
   ],
   "source": [
    "df_ensemble_model_without_hp"
   ]
  },
  {
   "cell_type": "markdown",
   "id": "72c7e9af",
   "metadata": {},
   "source": [
    "Ensemble Model Dengan Hyperparameter Tuning"
   ]
  },
  {
   "cell_type": "code",
   "execution_count": 37,
   "id": "03c38701",
   "metadata": {},
   "outputs": [
    {
     "data": {
      "text/html": [
       "<div>\n",
       "<style scoped>\n",
       "    .dataframe tbody tr th:only-of-type {\n",
       "        vertical-align: middle;\n",
       "    }\n",
       "\n",
       "    .dataframe tbody tr th {\n",
       "        vertical-align: top;\n",
       "    }\n",
       "\n",
       "    .dataframe thead th {\n",
       "        text-align: right;\n",
       "    }\n",
       "</style>\n",
       "<table border=\"1\" class=\"dataframe\">\n",
       "  <thead>\n",
       "    <tr style=\"text-align: right;\">\n",
       "      <th></th>\n",
       "      <th>mean recall</th>\n",
       "      <th>test recall</th>\n",
       "      <th>sdev</th>\n",
       "    </tr>\n",
       "    <tr>\n",
       "      <th>model</th>\n",
       "      <th></th>\n",
       "      <th></th>\n",
       "      <th></th>\n",
       "    </tr>\n",
       "  </thead>\n",
       "  <tbody>\n",
       "    <tr>\n",
       "      <th>LightGBM</th>\n",
       "      <td>0.896643</td>\n",
       "      <td>0.872549</td>\n",
       "      <td>0.008156</td>\n",
       "    </tr>\n",
       "    <tr>\n",
       "      <th>XGBoost</th>\n",
       "      <td>0.894757</td>\n",
       "      <td>0.882353</td>\n",
       "      <td>0.008415</td>\n",
       "    </tr>\n",
       "    <tr>\n",
       "      <th>Random Forest</th>\n",
       "      <td>0.888492</td>\n",
       "      <td>0.852941</td>\n",
       "      <td>0.003380</td>\n",
       "    </tr>\n",
       "  </tbody>\n",
       "</table>\n",
       "</div>"
      ],
      "text/plain": [
       "               mean recall  test recall      sdev\n",
       "model                                            \n",
       "LightGBM          0.896643     0.872549  0.008156\n",
       "XGBoost           0.894757     0.882353  0.008415\n",
       "Random Forest     0.888492     0.852941  0.003380"
      ]
     },
     "execution_count": 37,
     "metadata": {},
     "output_type": "execute_result"
    }
   ],
   "source": [
    "model_names = ['Random Forest', 'XGBoost', 'LightGBM']\n",
    "\n",
    "rata = [rf_with_hp_mean, xgb_with_hp_mean, lgbm_with_hp_mean]\n",
    "std = [rf_with_hp_std, xgb_with_hp_std, lgbm_with_hp_std]\n",
    "test = [rf_with_hp_test_score, xgb_with_hp_test_score, lgbm_with_hp_test_score]\n",
    "\n",
    "\n",
    "df_cv_result_ensemble_with_hp = pd.DataFrame({\n",
    "    'model': model_names,\n",
    "    'mean recall': rata,\n",
    "    'test recall': test,\n",
    "    'sdev': std\n",
    "}).set_index('model').sort_values(by='mean recall', ascending=False)\n",
    "\n",
    "df_cv_result_ensemble_with_hp"
   ]
  },
  {
   "cell_type": "markdown",
   "id": "3b2d9505",
   "metadata": {},
   "source": [
    "Dari sini kita dapat model terbaiknya adalah Random Forest dengan rata-rata cv tertinggi dan standard deviasi terendah, selanjutnya mari kita train dan bandingkan hasil algoritma ini dengan fitur yang berbeda, fitur yang tidak dimiliki wilayah terpencil."
   ]
  },
  {
   "cell_type": "markdown",
   "id": "1b308c2f",
   "metadata": {},
   "source": [
    ">## Train Model Fasilitas Kesehatan Terbatas "
   ]
  },
  {
   "cell_type": "markdown",
   "id": "2ed7d985",
   "metadata": {},
   "source": [
    "Setelah sebelumnya kita melatih model untuk memprediksi penyakit jantung dengan dukungan fasilitas kesehatan yang lengkap, kali ini kita akan melatih model yang disesuaikan untuk digunakan di fasilitas kesehatan dengan peralatan terbatas. Karena fasilitas ini diasumsikan tidak punya ECG maupun lab untuk tes darah, maka kita akan membuat model prediksi tanpa mengandalkan data dari alat-alat medis yang canggih.\n",
    "\n",
    "`ST_Slope`,`RestingECG`,`MaxHR` dan `Oldpeak` diperoleh dari hasil ECG/EKG, sedangkan `Cholesterol` diperoleh dari tes darah, untuk itu kita akan drop kolom-kolom ini.  \n",
    " \n",
    "Prepocessing dan algoritma yang digunakan sama seperti sebelumnya, karena kita ingin melihat seberapa berpengaruh fitur-fitur ini. "
   ]
  },
  {
   "cell_type": "code",
   "execution_count": 38,
   "id": "09d9146a",
   "metadata": {},
   "outputs": [],
   "source": [
    "df_dropped = df.drop(columns=['ST_Slope', 'RestingECG', 'MaxHR', 'Oldpeak', 'Cholesterol'])"
   ]
  },
  {
   "cell_type": "markdown",
   "id": "6566d0af",
   "metadata": {},
   "source": [
    "## Preprocessing\n",
    "\n",
    "OneHot untuk data dengan sedikit kategori dan tidak berjenjang:  \n",
    "ExerciseAngina, ChestPainType, Sex, FastingBS  \n",
    "\n",
    "StandardScaling untuk data terdistribusi normal:  \n",
    "MaxHR, Age, RestingBP  \n",
    "\n",
    "Preprocessing dilakukan setelah splitting dengan pipeline menghindari leakage"
   ]
  },
  {
   "cell_type": "markdown",
   "id": "5d21c49c",
   "metadata": {},
   "source": [
    "### Fitur dan Target"
   ]
  },
  {
   "cell_type": "code",
   "execution_count": 39,
   "id": "ae5112fa",
   "metadata": {},
   "outputs": [],
   "source": [
    "target = df_dropped['HeartDisease']\n",
    "features = df_dropped.drop(columns=['HeartDisease'])"
   ]
  },
  {
   "cell_type": "markdown",
   "id": "7dadef1d",
   "metadata": {},
   "source": [
    "### Splitting"
   ]
  },
  {
   "cell_type": "code",
   "execution_count": 40,
   "id": "24156d8a",
   "metadata": {},
   "outputs": [],
   "source": [
    "\n",
    "X = features\n",
    "y = target\n",
    "\n",
    "X_train, X_test, y_train, y_test = train_test_split(X, y, test_size=0.2, random_state=10, stratify=y)"
   ]
  },
  {
   "cell_type": "markdown",
   "id": "e7ac8dfb",
   "metadata": {},
   "source": [
    "### Pipeline preprocessor"
   ]
  },
  {
   "cell_type": "code",
   "execution_count": 41,
   "id": "e5673c7e",
   "metadata": {},
   "outputs": [],
   "source": [
    "\n",
    "onehot_features = ['ExerciseAngina', 'ChestPainType', 'Sex', 'FastingBS']\n",
    "standard_features = ['Age', 'RestingBP']\n",
    "\n",
    "# Pipelines lainnya\n",
    "onehot_pipeline = Pipeline([\n",
    "    ('onehot', OneHotEncoder(drop='first', handle_unknown='ignore'))\n",
    "])\n",
    "\n",
    "preprocessor = ColumnTransformer([\n",
    "    ('onehot', onehot_pipeline, onehot_features),\n",
    "    ('standard', StandardScaler(), standard_features),\n",
    "])\n"
   ]
  },
  {
   "cell_type": "markdown",
   "id": "9e7e0b9e",
   "metadata": {},
   "source": [
    ">## Training Model"
   ]
  },
  {
   "cell_type": "markdown",
   "id": "260118ed",
   "metadata": {},
   "source": [
    "## Random Forest Tanpa Hyperparameter Tuning\n",
    "\n",
    "Karena model yang kita pilih adalah random forest dan kita ingin membandingkan score recallnya, maka di kasus pertama kita akan menggunakan algoritma dan (lnajutin)"
   ]
  },
  {
   "cell_type": "code",
   "execution_count": 42,
   "id": "582a824b",
   "metadata": {},
   "outputs": [
    {
     "data": {
      "text/html": [
       "<div>\n",
       "<style scoped>\n",
       "    .dataframe tbody tr th:only-of-type {\n",
       "        vertical-align: middle;\n",
       "    }\n",
       "\n",
       "    .dataframe tbody tr th {\n",
       "        vertical-align: top;\n",
       "    }\n",
       "\n",
       "    .dataframe thead th {\n",
       "        text-align: right;\n",
       "    }\n",
       "</style>\n",
       "<table border=\"1\" class=\"dataframe\">\n",
       "  <thead>\n",
       "    <tr style=\"text-align: right;\">\n",
       "      <th></th>\n",
       "      <th>mean recall</th>\n",
       "      <th>sdev</th>\n",
       "    </tr>\n",
       "    <tr>\n",
       "      <th>model</th>\n",
       "      <th></th>\n",
       "      <th></th>\n",
       "    </tr>\n",
       "  </thead>\n",
       "  <tbody>\n",
       "    <tr>\n",
       "      <th>Random Forest</th>\n",
       "      <td>0.812622</td>\n",
       "      <td>0.067034</td>\n",
       "    </tr>\n",
       "  </tbody>\n",
       "</table>\n",
       "</div>"
      ],
      "text/plain": [
       "               mean recall      sdev\n",
       "model                               \n",
       "Random Forest     0.812622  0.067034"
      ]
     },
     "execution_count": 42,
     "metadata": {},
     "output_type": "execute_result"
    }
   ],
   "source": [
    "models = [rf]\n",
    "score=[]\n",
    "rata=[]\n",
    "std=[]\n",
    "\n",
    "for i in models:\n",
    "    skfold=StratifiedKFold(n_splits=10, shuffle=True, random_state= 10)\n",
    "    estimator=Pipeline([\n",
    "        ('preprocess',preprocessor),\n",
    "        ('model',i)])\n",
    "    model_cv=cross_val_score(estimator,X_train,y_train,cv=skfold,scoring='recall')\n",
    "    score.append(model_cv)\n",
    "    rata.append(model_cv.mean())\n",
    "    std.append(model_cv.std())\n",
    "    \n",
    "df_ensemble_model_without_hp = pd.DataFrame({'model':['Random Forest'],'mean recall':rata,'sdev':std}).set_index('model').sort_values(by='mean recall',ascending=False)\n",
    "df_ensemble_model_without_hp"
   ]
  },
  {
   "cell_type": "markdown",
   "id": "181ab853",
   "metadata": {},
   "source": [
    "#### Prediksi dan Evaluasi pada Data Test"
   ]
  },
  {
   "cell_type": "code",
   "execution_count": 43,
   "id": "b9254910",
   "metadata": {},
   "outputs": [
    {
     "name": "stdout",
     "output_type": "stream",
     "text": [
      "Random Forest \n",
      "               precision    recall  f1-score   support\n",
      "\n",
      "           0       0.82      0.72      0.77        82\n",
      "           1       0.79      0.87      0.83       102\n",
      "\n",
      "    accuracy                           0.80       184\n",
      "   macro avg       0.81      0.80      0.80       184\n",
      "weighted avg       0.81      0.80      0.80       184\n",
      "\n"
     ]
    },
    {
     "data": {
      "text/html": [
       "<div>\n",
       "<style scoped>\n",
       "    .dataframe tbody tr th:only-of-type {\n",
       "        vertical-align: middle;\n",
       "    }\n",
       "\n",
       "    .dataframe tbody tr th {\n",
       "        vertical-align: top;\n",
       "    }\n",
       "\n",
       "    .dataframe thead th {\n",
       "        text-align: right;\n",
       "    }\n",
       "</style>\n",
       "<table border=\"1\" class=\"dataframe\">\n",
       "  <thead>\n",
       "    <tr style=\"text-align: right;\">\n",
       "      <th></th>\n",
       "      <th>recall score</th>\n",
       "    </tr>\n",
       "    <tr>\n",
       "      <th>model</th>\n",
       "      <th></th>\n",
       "    </tr>\n",
       "  </thead>\n",
       "  <tbody>\n",
       "    <tr>\n",
       "      <th>Random Forest</th>\n",
       "      <td>0.872549</td>\n",
       "    </tr>\n",
       "  </tbody>\n",
       "</table>\n",
       "</div>"
      ],
      "text/plain": [
       "               recall score\n",
       "model                      \n",
       "Random Forest      0.872549"
      ]
     },
     "execution_count": 43,
     "metadata": {},
     "output_type": "execute_result"
    }
   ],
   "source": [
    "models = [rf]\n",
    "score_recall = []\n",
    "\n",
    "\n",
    "\n",
    "def y_pred_func(model, X_train, X_test, y_train):\n",
    "    estimator = Pipeline([\n",
    "        ('preprocess', preprocessor),\n",
    "        ('model', model)\n",
    "    ])\n",
    "    estimator.fit(X_train, y_train)\n",
    "    return estimator, estimator.predict(X_test)\n",
    "\n",
    "# Pastikan X_train, X_test, y_train, y_test sudah didefinisikan sebelumnya\n",
    "for model, name in zip(models, ['Random Forest']):\n",
    "    estimator, y_pred = y_pred_func(model, X_train, X_test, y_train)\n",
    "    recall = recall_score(y_test, y_pred)\n",
    "    score_recall.append(recall)\n",
    "    print(name, '\\n', classification_report(y_test, y_pred))\n",
    "\n",
    "ensemble_model_test_df = pd.DataFrame({\n",
    "    'model': ['Random Forest'],\n",
    "    'recall score': score_recall\n",
    "}).set_index('model').sort_values(by='recall score', ascending=False)\n",
    "ensemble_model_test_df"
   ]
  },
  {
   "cell_type": "markdown",
   "id": "a7aaabb6",
   "metadata": {},
   "source": [
    "### Random Forest with Hyperparameter Tuning"
   ]
  },
  {
   "cell_type": "markdown",
   "id": "81d0a916",
   "metadata": {},
   "source": [
    "#### Validasi Model dengan Cross-Validation"
   ]
  },
  {
   "cell_type": "code",
   "execution_count": 44,
   "id": "6e1b2e2b",
   "metadata": {},
   "outputs": [
    {
     "name": "stdout",
     "output_type": "stream",
     "text": [
      "Fitting 5 folds for each of 12 candidates, totalling 60 fits\n",
      "Best Parameters: {'rf__n_estimators': 200, 'rf__min_samples_leaf': 3, 'rf__max_depth': 10, 'rf__class_weight': 'balanced'}\n",
      "Best CV Score: 0.8032821439325504\n",
      "Rata-rata keseluruhan skor CV: 0.7925825554551841\n",
      "Standar Deviasi dari skor CV: 0.005902289132793293\n"
     ]
    }
   ],
   "source": [
    "pipeline_rf = Pipeline([\n",
    "    ('preprocessor', preprocessor),  # Memanggil preprocessor dari atas       \n",
    "    ('rf', RandomForestClassifier(random_state=42)) \n",
    "    ])\n",
    "\n",
    "hyperparam_space = {\n",
    "    'rf__n_estimators': [100, 200],\n",
    "    'rf__max_depth': [10, 20],\n",
    "    'rf__min_samples_leaf': [3, 5, 7],\n",
    "    'rf__class_weight': ['balanced']\n",
    "}\n",
    "\n",
    "skfold = StratifiedKFold(n_splits = 5, random_state=10, shuffle=True)\n",
    "\n",
    "\n",
    "random_search = RandomizedSearchCV(\n",
    "    estimator=pipeline_rf,\n",
    "    param_distributions=hyperparam_space,  \n",
    "    n_iter=50,  \n",
    "    cv=skfold,   \n",
    "    scoring='recall',  \n",
    "    n_jobs=-1,  \n",
    "    random_state=10,  \n",
    "    verbose=1  \n",
    ")\n",
    "\n",
    "random_search.fit(X_train, y_train)\n",
    "\n",
    "cv_scores = random_search.cv_results_['mean_test_score']\n",
    "mean_overall = np.mean(cv_scores)\n",
    "std_dev = np.std(cv_scores)\n",
    "\n",
    "# Menyimpan rata2 dan standard deviasi model\n",
    "rf_with_hp_mean = mean_overall\n",
    "rf_with_hp_std = std_dev\n",
    "\n",
    "print(\"Best Parameters:\", random_search.best_params_)\n",
    "print(\"Best CV Score:\", random_search.best_score_)\n",
    "print(\"Rata-rata keseluruhan skor CV:\", mean_overall)\n",
    "print(\"Standar Deviasi dari skor CV:\", std_dev)"
   ]
  },
  {
   "cell_type": "markdown",
   "id": "206d68fa",
   "metadata": {},
   "source": [
    "### Test"
   ]
  },
  {
   "cell_type": "code",
   "execution_count": 45,
   "id": "a1fc5c0f",
   "metadata": {},
   "outputs": [
    {
     "name": "stdout",
     "output_type": "stream",
     "text": [
      "0.8823529411764706\n",
      "              precision    recall  f1-score   support\n",
      "\n",
      "           0       0.83      0.72      0.77        82\n",
      "           1       0.80      0.88      0.84       102\n",
      "\n",
      "    accuracy                           0.81       184\n",
      "   macro avg       0.81      0.80      0.80       184\n",
      "weighted avg       0.81      0.81      0.81       184\n",
      "\n"
     ]
    }
   ],
   "source": [
    "best_model = random_search.best_estimator_\n",
    "y_pred = best_model.predict(X_test)\n",
    "\n",
    "\n",
    "print(recall_score(y_test, y_pred))\n",
    "\n",
    "# Mencetak classification report untuk metrik lebih lengkap\n",
    "print(classification_report(y_test, y_pred))"
   ]
  },
  {
   "cell_type": "code",
   "execution_count": 46,
   "id": "4a3d8c8e",
   "metadata": {},
   "outputs": [
    {
     "name": "stdout",
     "output_type": "stream",
     "text": [
      "Jumlah feature names: 8\n",
      "Jumlah feature importances: 8\n",
      "                     feature  importance\n",
      "0   onehot__ExerciseAngina_Y    0.272098\n",
      "6              standard__Age    0.195918\n",
      "1  onehot__ChestPainType_ATA    0.154075\n",
      "7        standard__RestingBP    0.143708\n",
      "5        onehot__FastingBS_1    0.074831\n",
      "2  onehot__ChestPainType_NAP    0.071962\n",
      "4              onehot__Sex_M    0.071036\n",
      "3   onehot__ChestPainType_TA    0.016372\n"
     ]
    },
    {
     "data": {
      "image/png": "[encoded data removed]",
      "text/plain": [
       "<Figure size 1000x600 with 1 Axes>"
      ]
     },
     "metadata": {},
     "output_type": "display_data"
    }
   ],
   "source": [
    "from sklearn.pipeline import Pipeline\n",
    "from sklearn.compose import ColumnTransformer\n",
    "import pandas as pd\n",
    "import numpy as np\n",
    "import matplotlib.pyplot as plt\n",
    "\n",
    "# Ambil pipeline terbaik\n",
    "best_pipeline = random_search.best_estimator_\n",
    "\n",
    "# Ambil model RandomForest dari pipeline\n",
    "rf_model = best_pipeline.named_steps['rf']\n",
    "\n",
    "# Ambil preprocessor (sudah di-fit)\n",
    "preprocessor = best_pipeline.named_steps['preprocessor']\n",
    "\n",
    "# Ambil nama-nama fitur hasil transformasi\n",
    "try:\n",
    "    feature_names = preprocessor.get_feature_names_out()\n",
    "except:\n",
    "    # Kalau preprocessor gabungan (ColumnTransformer), kita ambil manual\n",
    "    feature_names = []\n",
    "    for name, transformer, cols in preprocessor.transformers_:\n",
    "        if transformer == 'drop':\n",
    "            continue\n",
    "        elif transformer == 'passthrough':\n",
    "            feature_names.extend(cols)\n",
    "        else:\n",
    "            try:\n",
    "                # Bisa panggil get_feature_names_out\n",
    "                names = transformer.get_feature_names_out(cols)\n",
    "                feature_names.extend(names)\n",
    "            except:\n",
    "                # Kalau tidak bisa, pakai nama kolom mentahnya\n",
    "                feature_names.extend(cols)\n",
    "\n",
    "# Pastikan panjangnya cocok\n",
    "print(f\"Jumlah feature names: {len(feature_names)}\")\n",
    "print(f\"Jumlah feature importances: {len(rf_model.feature_importances_)}\")\n",
    "\n",
    "# Sekarang aman bikin DataFrame\n",
    "feature_importance_df = pd.DataFrame({\n",
    "    'feature': feature_names,\n",
    "    'importance': rf_model.feature_importances_\n",
    "}).sort_values(by='importance', ascending=False)\n",
    "\n",
    "# Tampilkan 10 besar\n",
    "print(feature_importance_df.head(10))\n",
    "\n",
    "# Plot top 10\n",
    "plt.figure(figsize=(10,6))\n",
    "plt.barh(feature_importance_df['feature'][:10][::-1], feature_importance_df['importance'][:10][::-1])\n",
    "plt.xlabel('Feature Importance')\n",
    "plt.ylabel('Feature')\n",
    "plt.title('Top 10 Feature Importances - Random Forest')\n",
    "plt.tight_layout()\n",
    "plt.show()\n"
   ]
  },
  {
   "cell_type": "code",
   "execution_count": 47,
   "id": "3d435b7f",
   "metadata": {},
   "outputs": [
    {
     "ename": "AssertionError",
     "evalue": "The shape of the shap_values matrix does not match the shape of the provided data matrix.",
     "output_type": "error",
     "traceback": [
      "\u001b[31m---------------------------------------------------------------------------\u001b[39m",
      "\u001b[31mAssertionError\u001b[39m                            Traceback (most recent call last)",
      "\u001b[36mCell\u001b[39m\u001b[36m \u001b[39m\u001b[32mIn[47]\u001b[39m\u001b[32m, line 32\u001b[39m\n\u001b[32m     29\u001b[39m shap_values = explainer.shap_values(X_train_transformed)\n\u001b[32m     31\u001b[39m \u001b[38;5;66;03m# 9. Plot SHAP summary (untuk kelas 1)\u001b[39;00m\n\u001b[32m---> \u001b[39m\u001b[32m32\u001b[39m \u001b[43mshap\u001b[49m\u001b[43m.\u001b[49m\u001b[43msummary_plot\u001b[49m\u001b[43m(\u001b[49m\u001b[43mshap_values\u001b[49m\u001b[43m[\u001b[49m\u001b[32;43m1\u001b[39;49m\u001b[43m]\u001b[49m\u001b[43m,\u001b[49m\u001b[43m \u001b[49m\u001b[43mX_trans_df\u001b[49m\u001b[43m)\u001b[49m\n",
      "\u001b[36mFile \u001b[39m\u001b[32mc:\\Users\\Hewlett Packard\\AppData\\Local\\Programs\\Python\\Python313\\Lib\\site-packages\\shap\\plots\\_beeswarm.py:667\u001b[39m, in \u001b[36msummary_legacy\u001b[39m\u001b[34m(shap_values, features, feature_names, max_display, plot_type, color, axis_color, title, alpha, show, sort, color_bar, plot_size, layered_violin_max_num_bins, class_names, class_inds, color_bar_label, cmap, show_values_in_legend, use_log_scale, rng)\u001b[39m\n\u001b[32m    662\u001b[39m         \u001b[38;5;28;01mraise\u001b[39;00m \u001b[38;5;167;01mValueError\u001b[39;00m(\n\u001b[32m    663\u001b[39m             shape_msg + \u001b[33m\"\u001b[39m\u001b[33m Perhaps the extra column in the shap_values matrix is the \u001b[39m\u001b[33m\"\u001b[39m\n\u001b[32m    664\u001b[39m             \u001b[33m\"\u001b[39m\u001b[33mconstant offset? Of so just pass shap_values[:,:-1].\u001b[39m\u001b[33m\"\u001b[39m\n\u001b[32m    665\u001b[39m         )\n\u001b[32m    666\u001b[39m     \u001b[38;5;28;01melse\u001b[39;00m:\n\u001b[32m--> \u001b[39m\u001b[32m667\u001b[39m         \u001b[38;5;28;01massert\u001b[39;00m num_features == features.shape[\u001b[32m1\u001b[39m], shape_msg\n\u001b[32m    669\u001b[39m \u001b[38;5;28;01mif\u001b[39;00m feature_names \u001b[38;5;129;01mis\u001b[39;00m \u001b[38;5;28;01mNone\u001b[39;00m:\n\u001b[32m    670\u001b[39m     feature_names = np.array([labels[\u001b[33m\"\u001b[39m\u001b[33mFEATURE\u001b[39m\u001b[33m\"\u001b[39m] % \u001b[38;5;28mstr\u001b[39m(i) \u001b[38;5;28;01mfor\u001b[39;00m i \u001b[38;5;129;01min\u001b[39;00m \u001b[38;5;28mrange\u001b[39m(num_features)])\n",
      "\u001b[31mAssertionError\u001b[39m: The shape of the shap_values matrix does not match the shape of the provided data matrix."
     ]
    },
    {
     "data": {
      "text/plain": [
       "<Figure size 640x480 with 0 Axes>"
      ]
     },
     "metadata": {},
     "output_type": "display_data"
    }
   ],
   "source": [
    "import shap\n",
    "import pandas as pd\n",
    "import numpy as np\n",
    "\n",
    "# 1. Ambil model terbaik dari hasil RandomizedSearchCV\n",
    "best_model = random_search.best_estimator_\n",
    "\n",
    "# 2. Pisahkan preprocessor dan RandomForest-nya\n",
    "fitted_preprocessor = best_model.named_steps['preprocessor']\n",
    "fitted_rf = best_model.named_steps['rf']\n",
    "\n",
    "# 3. Transform data training\n",
    "X_train_transformed = fitted_preprocessor.transform(X_train)\n",
    "\n",
    "# 4. Jika hasil transformasi berupa sparse matrix, ubah ke array biasa\n",
    "if hasattr(X_train_transformed, \"toarray\"):\n",
    "    X_train_transformed = X_train_transformed.toarray()\n",
    "\n",
    "# 5. Ambil nama fitur hasil preprocessing\n",
    "feature_names = fitted_preprocessor.get_feature_names_out()\n",
    "\n",
    "# 6. Bungkus jadi DataFrame (opsional tapi sangat membantu interpretasi)\n",
    "X_trans_df = pd.DataFrame(X_train_transformed, columns=feature_names)\n",
    "\n",
    "# 7. Inisialisasi SHAP TreeExplainer\n",
    "explainer = shap.TreeExplainer(fitted_rf)\n",
    "\n",
    "# 8. Hitung SHAP values\n",
    "shap_values = explainer.shap_values(X_train_transformed)\n",
    "\n",
    "# 9. Plot SHAP summary (untuk kelas 1)\n",
    "shap.summary_plot(shap_values[1], X_trans_df)\n"
   ]
  },
  {
   "cell_type": "code",
   "execution_count": null,
   "id": "3b595101",
   "metadata": {},
   "outputs": [
    {
     "ename": "AssertionError",
     "evalue": "The shape of the shap_values matrix does not match the shape of the provided data matrix.",
     "output_type": "error",
     "traceback": [
      "\u001b[31m---------------------------------------------------------------------------\u001b[39m",
      "\u001b[31mAssertionError\u001b[39m                            Traceback (most recent call last)",
      "\u001b[36mCell\u001b[39m\u001b[36m \u001b[39m\u001b[32mIn[49]\u001b[39m\u001b[32m, line 24\u001b[39m\n\u001b[32m     21\u001b[39m feature_names = fitted_preprocessor.get_feature_names_out()\n\u001b[32m     23\u001b[39m \u001b[38;5;66;03m# Plot summary\u001b[39;00m\n\u001b[32m---> \u001b[39m\u001b[32m24\u001b[39m \u001b[43mshap\u001b[49m\u001b[43m.\u001b[49m\u001b[43msummary_plot\u001b[49m\u001b[43m(\u001b[49m\u001b[43mshap_values\u001b[49m\u001b[43m[\u001b[49m\u001b[32;43m1\u001b[39;49m\u001b[43m]\u001b[49m\u001b[43m,\u001b[49m\u001b[43m \u001b[49m\u001b[43mX_train_transformed\u001b[49m\u001b[43m,\u001b[49m\u001b[43m \u001b[49m\u001b[43mfeature_names\u001b[49m\u001b[43m=\u001b[49m\u001b[43mfeature_names\u001b[49m\u001b[43m)\u001b[49m\n",
      "\u001b[36mFile \u001b[39m\u001b[32mc:\\Users\\Hewlett Packard\\AppData\\Local\\Programs\\Python\\Python313\\Lib\\site-packages\\shap\\plots\\_beeswarm.py:667\u001b[39m, in \u001b[36msummary_legacy\u001b[39m\u001b[34m(shap_values, features, feature_names, max_display, plot_type, color, axis_color, title, alpha, show, sort, color_bar, plot_size, layered_violin_max_num_bins, class_names, class_inds, color_bar_label, cmap, show_values_in_legend, use_log_scale, rng)\u001b[39m\n\u001b[32m    662\u001b[39m         \u001b[38;5;28;01mraise\u001b[39;00m \u001b[38;5;167;01mValueError\u001b[39;00m(\n\u001b[32m    663\u001b[39m             shape_msg + \u001b[33m\"\u001b[39m\u001b[33m Perhaps the extra column in the shap_values matrix is the \u001b[39m\u001b[33m\"\u001b[39m\n\u001b[32m    664\u001b[39m             \u001b[33m\"\u001b[39m\u001b[33mconstant offset? Of so just pass shap_values[:,:-1].\u001b[39m\u001b[33m\"\u001b[39m\n\u001b[32m    665\u001b[39m         )\n\u001b[32m    666\u001b[39m     \u001b[38;5;28;01melse\u001b[39;00m:\n\u001b[32m--> \u001b[39m\u001b[32m667\u001b[39m         \u001b[38;5;28;01massert\u001b[39;00m num_features == features.shape[\u001b[32m1\u001b[39m], shape_msg\n\u001b[32m    669\u001b[39m \u001b[38;5;28;01mif\u001b[39;00m feature_names \u001b[38;5;129;01mis\u001b[39;00m \u001b[38;5;28;01mNone\u001b[39;00m:\n\u001b[32m    670\u001b[39m     feature_names = np.array([labels[\u001b[33m\"\u001b[39m\u001b[33mFEATURE\u001b[39m\u001b[33m\"\u001b[39m] % \u001b[38;5;28mstr\u001b[39m(i) \u001b[38;5;28;01mfor\u001b[39;00m i \u001b[38;5;129;01min\u001b[39;00m \u001b[38;5;28mrange\u001b[39m(num_features)])\n",
      "\u001b[31mAssertionError\u001b[39m: The shape of the shap_values matrix does not match the shape of the provided data matrix."
     ]
    },
    {
     "data": {
      "text/plain": [
       "<Figure size 640x480 with 0 Axes>"
      ]
     },
     "metadata": {},
     "output_type": "display_data"
    }
   ],
   "source": [
    "import shap\n",
    "\n",
    "# Ambil model terbaik hasil RandomizedSearchCV\n",
    "best_model = random_search.best_estimator_\n",
    "\n",
    "# Pisahkan preprocessor dan model RandomForest\n",
    "fitted_preprocessor = best_model.named_steps['preprocessor']\n",
    "fitted_rf = best_model.named_steps['rf']\n",
    "\n",
    "# Transform X_train menggunakan preprocessor\n",
    "X_train_transformed = fitted_preprocessor.transform(X_train)\n",
    "\n",
    "# Inisialisasi TreeExplainer dengan model RandomForest\n",
    "explainer = shap.TreeExplainer(fitted_rf)\n",
    "\n",
    "# Hitung SHAP values\n",
    "shap_values = explainer.shap_values(X_train_transformed)\n",
    "\n",
    "# Dapatkan nama fitur setelah transformasi\n",
    "# Ini bisa kompleks tergantung pipeline preprocessing, contoh di bawah untuk kombinasi OneHot dan numerical\n",
    "feature_names = fitted_preprocessor.get_feature_names_out()\n",
    "\n",
    "# Plot summary\n",
    "shap.summary_plot(shap_values[1], X_train_transformed, feature_names=feature_names)\n"
   ]
  }
 ],
 "metadata": {
  "kernelspec": {
   "display_name": "Python 3",
   "language": "python",
   "name": "python3"
  },
  "language_info": {
   "codemirror_mode": {
    "name": "ipython",
    "version": 3
   },
   "file_extension": ".py",
   "mimetype": "text/x-python",
   "name": "python",
   "nbconvert_exporter": "python",
   "pygments_lexer": "ipython3",
   "version": "3.13.0"
  }
 },
 "nbformat": 4,
 "nbformat_minor": 5
}
